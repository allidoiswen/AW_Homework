{
 "cells": [
  {
   "cell_type": "code",
   "execution_count": 103,
   "metadata": {},
   "outputs": [],
   "source": [
    "import pandas as pd\n",
    "import os\n",
    "import urllib.request\n",
    "import zipfile\n",
    "import datetime as dt\n",
    "from monthdelta import monthdelta\n",
    "from sqlalchemy import create_engine\n",
    "from config import username, passphrase\n",
    "\n",
    "\n",
    "# Define variables\n",
    "yearMonthList = []\n",
    "numMonth_lookback = 42\n",
    "\n",
    "# Find the past numMonth_lookback YYYYMM\n",
    "for i in range(0, numMonth_lookback):\n",
    "    date_ = dt.date.today() - monthdelta(i+1)\n",
    "    yearMonthList.append(date_.strftime('%Y%m'))\n",
    "    \n",
    "# Create a download function\n",
    "def citibike_downloader(yearMonth):\n",
    "    \n",
    "    # Set up url and path\n",
    "    url = f'https://s3.amazonaws.com/tripdata/{yearMonth}-citibike-tripdata.csv.zip'\n",
    "    download_folder = os.getcwd()\n",
    "    full_path_w_file_name = download_folder + '\\\\static\\\\' + f'{yearMonth}-citibike-tripdata.csv.zip'\n",
    "\n",
    "    # Download CitiBike Zip files\n",
    "#     print(f'Download {yearMonth} CitBike data...')\n",
    "    urllib.request.urlretrieve(url, full_path_w_file_name)  \n",
    "#     print(yearMonth + ' data downloaded.')\n",
    "\n",
    "    # Unzip download files\n",
    "#     print(f'Unzip {yearMonth} data...')\n",
    "    zip_ref = zipfile.ZipFile(full_path_w_file_name, 'r')\n",
    "    zip_ref.extractall(download_folder + '\\\\static\\\\')\n",
    "    zip_ref.close()\n",
    "    print(f'{yearMonth} data unzipped.')"
   ]
  },
  {
   "cell_type": "code",
   "execution_count": null,
   "metadata": {},
   "outputs": [],
   "source": [
    "# Download all historical data\n",
    "for yearMonth in yearMonthList:\n",
    "    citibike_downloader(yearMonth)"
   ]
  },
  {
   "cell_type": "code",
   "execution_count": 106,
   "metadata": {},
   "outputs": [],
   "source": [
    "def load_data_to_postgres(yearMonth):\n",
    "    \n",
    "    print('Loading ' + yearMonth + '...')\n",
    "\n",
    "    # Read csv file into pa DataFrame\n",
    "    data = pd.read_csv(f\"static/{yearMonth}-citibike-tripdata.csv\")\n",
    "\n",
    "    # change column names to all lower case\n",
    "    data.columns = map(str.lower, data.columns)\n",
    "\n",
    "    # remove all spaces in column names\n",
    "    data.columns = data.columns.str.replace(' ', '')\n",
    "    \n",
    "    # Connect to Postgres\n",
    "    rds_connection_string = f\"{username}:{passphrase}@localhost:5432/citibike\"\n",
    "    engine = create_engine(f'postgresql://{rds_connection_string}')\n",
    "\n",
    "    # Create table to PG Admin\n",
    "    data.to_sql(name='tripdata', con=engine, if_exists='append', index=False)\n",
    "    \n",
    "    print(yearMonth + ' data loaded to Postgress SQL.')"
   ]
  },
  {
   "cell_type": "code",
   "execution_count": null,
   "metadata": {},
   "outputs": [
    {
     "name": "stdout",
     "output_type": "stream",
     "text": [
      "Loading 202006...\n",
      "202006 data loaded to Postgress SQL.\n",
      "Loading 202005...\n",
      "202005 data loaded to Postgress SQL.\n",
      "Loading 202004...\n"
     ]
    }
   ],
   "source": [
    "yearMonthList.reverse()\n",
    "\n",
    "for yearMonth in yearMonthList:\n",
    "    load_data_to_postgres(yearMonth)"
   ]
  },
  {
   "cell_type": "code",
   "execution_count": null,
   "metadata": {},
   "outputs": [],
   "source": []
  }
 ],
 "metadata": {
  "kernelspec": {
   "display_name": "via2",
   "language": "python",
   "name": "via2"
  },
  "language_info": {
   "codemirror_mode": {
    "name": "ipython",
    "version": 3
   },
   "file_extension": ".py",
   "mimetype": "text/x-python",
   "name": "python",
   "nbconvert_exporter": "python",
   "pygments_lexer": "ipython3",
   "version": "3.7.3"
  }
 },
 "nbformat": 4,
 "nbformat_minor": 2
}
