{
 "cells": [
  {
   "cell_type": "code",
   "execution_count": null,
   "metadata": {},
   "outputs": [],
   "source": [
    "import pandas as pd\n",
    "import numpy as np\n",
    "import os\n",
    "import urllib.request\n",
    "import zipfile\n",
    "import datetime as dt\n",
    "from monthdelta import monthdelta\n",
    "from sqlalchemy import create_engine\n",
    "from config import username, passphrase\n",
    "\n",
    "\n",
    "# Define variables\n",
    "yearMonthList = []\n",
    "numMonth_lookback = 12\n",
    "lookback_start_date = dt.date.today()\n",
    "\n",
    "# Find the past numMonth_lookback YYYYMM\n",
    "for i in range(0, numMonth_lookback):\n",
    "    date_ = lookback_start_date - monthdelta(i+1)\n",
    "    yearMonthList.append(date_.strftime('%Y%m'))\n",
    "    \n",
    "# Create a download function\n",
    "def citibike_downloader(yearMonth):\n",
    "    \n",
    "    # Set up url and path\n",
    "    url = f'https://s3.amazonaws.com/tripdata/{yearMonth}-citibike-tripdata.csv.zip'\n",
    "    url_old = f'https://s3.amazonaws.com/tripdata/{yearMonth}-citibike-tripdata.zip'\n",
    "    download_folder = os.getcwd()\n",
    "    full_path_w_file_name = download_folder + '\\\\static\\\\' + f'{yearMonth}-citibike-tripdata.csv.zip'\n",
    "\n",
    "    # Download CitiBike Zip files\n",
    "    try:\n",
    "        urllib.request.urlretrieve(url, full_path_w_file_name)\n",
    "    except:\n",
    "        urllib.request.urlretrieve(url_old, full_path_w_file_name)\n",
    "\n",
    "    # Unzip download files\n",
    "    zip_ref = zipfile.ZipFile(full_path_w_file_name, 'r')\n",
    "    zip_ref.extractall(download_folder + '\\\\static\\\\')\n",
    "    zip_ref.close()\n",
    "    print(f'{yearMonth} data unzipped.')\n",
    "    \n",
    "def load_data_to_postgres(yearMonth):\n",
    "    \n",
    "    print('Loading ' + yearMonth + '...')\n",
    "\n",
    "    # Read csv file into pa DataFrame\n",
    "    data = pd.read_csv(f\"static/{yearMonth}-citibike-tripdata.csv\")\n",
    "\n",
    "    # change column names to all lower case\n",
    "    data.columns = map(str.lower, data.columns)\n",
    "\n",
    "    # remove all spaces in column names\n",
    "    data.columns = data.columns.str.replace(' ', '')\n",
    "    \n",
    "    # clean up brith year \\N\n",
    "    data.loc[data.birthyear == '\\\\N', 'birthyear'] = np.nan\n",
    "    \n",
    "    # Connect to Postgres\n",
    "    rds_connection_string = f\"{username}:{passphrase}@localhost:5432/citibike\"\n",
    "    engine = create_engine(f'postgresql://{rds_connection_string}')\n",
    "\n",
    "    # Create table to PG Admin\n",
    "    data.to_sql(name='tripdata', con=engine, if_exists='append', index=False)\n",
    "    \n",
    "    print(yearMonth + ' data loaded to Postgress SQL.')"
   ]
  },
  {
   "cell_type": "code",
   "execution_count": null,
   "metadata": {},
   "outputs": [],
   "source": [
    "# Download all historical data\n",
    "for yearMonth in yearMonthList:\n",
    "    citibike_downloader(yearMonth)"
   ]
  },
  {
   "cell_type": "code",
   "execution_count": null,
   "metadata": {},
   "outputs": [],
   "source": [
    "# Load into Postgres SQL\n",
    "for yearMonth in yearMonthList:\n",
    "    load_data_to_postgres(yearMonth)"
   ]
  }
 ],
 "metadata": {
  "kernelspec": {
   "display_name": "via2",
   "language": "python",
   "name": "via2"
  },
  "language_info": {
   "codemirror_mode": {
    "name": "ipython",
    "version": 3
   },
   "file_extension": ".py",
   "mimetype": "text/x-python",
   "name": "python",
   "nbconvert_exporter": "python",
   "pygments_lexer": "ipython3",
   "version": "3.7.3"
  }
 },
 "nbformat": 4,
 "nbformat_minor": 2
}
