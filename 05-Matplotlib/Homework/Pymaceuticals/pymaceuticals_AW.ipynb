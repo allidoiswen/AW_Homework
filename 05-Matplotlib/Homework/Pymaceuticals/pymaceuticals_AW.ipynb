{
 "cells": [
  {
   "cell_type": "markdown",
   "metadata": {},
   "source": [
    "## Observations and Insights "
   ]
  },
  {
   "cell_type": "markdown",
   "metadata": {},
   "source": [
    "**Obervation 1**<br>\n",
    "In general, we found the weight of mice is positively correlated with the size of tumor with a correlation coefficient of **0.84**. <br>\n",
    "<br>\n",
    "**Obervation 2**<br>\n",
    "The size of tumor did show a decreasing trend throughout time for the mice that received drug Capomulin. <br>\n",
    "<br>\n",
    "**Obervation 3**<br>\n",
    "Throughout the experiment, the drug of interest, Capomulin, has a similiar distribution in the size of tumor as another drug Ramicane. In addition, the data statistics tend to be smaller than other two drugs Infubinol and Ceftamin.  \n",
    "<br>\n"
   ]
  },
  {
   "cell_type": "code",
   "execution_count": 17,
   "metadata": {},
   "outputs": [],
   "source": [
    "# Dependencies and Setup\n",
    "import matplotlib.pyplot as plt\n",
    "import pandas as pd\n",
    "import numpy as np\n",
    "import scipy.stats as stats\n",
    "from scipy.stats import linregress\n",
    "\n",
    "# Study data files\n",
    "mouse_metadata_path = \"data/Mouse_metadata.csv\"\n",
    "study_results_path = \"data/Study_results.csv\"\n",
    "\n",
    "# Read the mouse data and the study results\n",
    "mouse_metadata = pd.read_csv(mouse_metadata_path)\n",
    "study_results = pd.read_csv(study_results_path)\n",
    "\n",
    "# Combine the data into a single dataset\n",
    "comb_data = pd.merge(mouse_metadata, study_results, on = 'Mouse ID', how = 'outer')"
   ]
  },
  {
   "cell_type": "code",
   "execution_count": 18,
   "metadata": {},
   "outputs": [
    {
     "name": "stdout",
     "output_type": "stream",
     "text": [
      "Number of mice in the DataFrame:  249\n"
     ]
    }
   ],
   "source": [
    "# Checking the number of mice in the DataFrame.\n",
    "num_mice = len(comb_data['Mouse ID'].unique())\n",
    "print(\"Number of mice in the DataFrame: \", num_mice)"
   ]
  },
  {
   "cell_type": "code",
   "execution_count": 19,
   "metadata": {},
   "outputs": [
    {
     "data": {
      "text/plain": [
       "array(['g989'], dtype=object)"
      ]
     },
     "execution_count": 19,
     "metadata": {},
     "output_type": "execute_result"
    }
   ],
   "source": [
    "# Getting the duplicate mice by ID number that shows up for Mouse ID and Timepoint. \n",
    "list_of_dups = comb_data[comb_data.duplicated(['Mouse ID', 'Timepoint'])]['Mouse ID'].unique()\n",
    "list_of_dups"
   ]
  },
  {
   "cell_type": "code",
   "execution_count": 20,
   "metadata": {},
   "outputs": [
    {
     "data": {
      "text/html": [
       "<div>\n",
       "<style scoped>\n",
       "    .dataframe tbody tr th:only-of-type {\n",
       "        vertical-align: middle;\n",
       "    }\n",
       "\n",
       "    .dataframe tbody tr th {\n",
       "        vertical-align: top;\n",
       "    }\n",
       "\n",
       "    .dataframe thead th {\n",
       "        text-align: right;\n",
       "    }\n",
       "</style>\n",
       "<table border=\"1\" class=\"dataframe\">\n",
       "  <thead>\n",
       "    <tr style=\"text-align: right;\">\n",
       "      <th></th>\n",
       "      <th>Mouse ID</th>\n",
       "      <th>Drug Regimen</th>\n",
       "      <th>Sex</th>\n",
       "      <th>Age_months</th>\n",
       "      <th>Weight (g)</th>\n",
       "      <th>Timepoint</th>\n",
       "      <th>Tumor Volume (mm3)</th>\n",
       "      <th>Metastatic Sites</th>\n",
       "    </tr>\n",
       "  </thead>\n",
       "  <tbody>\n",
       "    <tr>\n",
       "      <th>908</th>\n",
       "      <td>g989</td>\n",
       "      <td>Propriva</td>\n",
       "      <td>Female</td>\n",
       "      <td>21</td>\n",
       "      <td>26</td>\n",
       "      <td>0</td>\n",
       "      <td>45.000000</td>\n",
       "      <td>0</td>\n",
       "    </tr>\n",
       "    <tr>\n",
       "      <th>909</th>\n",
       "      <td>g989</td>\n",
       "      <td>Propriva</td>\n",
       "      <td>Female</td>\n",
       "      <td>21</td>\n",
       "      <td>26</td>\n",
       "      <td>0</td>\n",
       "      <td>45.000000</td>\n",
       "      <td>0</td>\n",
       "    </tr>\n",
       "    <tr>\n",
       "      <th>910</th>\n",
       "      <td>g989</td>\n",
       "      <td>Propriva</td>\n",
       "      <td>Female</td>\n",
       "      <td>21</td>\n",
       "      <td>26</td>\n",
       "      <td>5</td>\n",
       "      <td>48.786801</td>\n",
       "      <td>0</td>\n",
       "    </tr>\n",
       "    <tr>\n",
       "      <th>911</th>\n",
       "      <td>g989</td>\n",
       "      <td>Propriva</td>\n",
       "      <td>Female</td>\n",
       "      <td>21</td>\n",
       "      <td>26</td>\n",
       "      <td>5</td>\n",
       "      <td>47.570392</td>\n",
       "      <td>0</td>\n",
       "    </tr>\n",
       "    <tr>\n",
       "      <th>912</th>\n",
       "      <td>g989</td>\n",
       "      <td>Propriva</td>\n",
       "      <td>Female</td>\n",
       "      <td>21</td>\n",
       "      <td>26</td>\n",
       "      <td>10</td>\n",
       "      <td>51.745156</td>\n",
       "      <td>0</td>\n",
       "    </tr>\n",
       "    <tr>\n",
       "      <th>913</th>\n",
       "      <td>g989</td>\n",
       "      <td>Propriva</td>\n",
       "      <td>Female</td>\n",
       "      <td>21</td>\n",
       "      <td>26</td>\n",
       "      <td>10</td>\n",
       "      <td>49.880528</td>\n",
       "      <td>0</td>\n",
       "    </tr>\n",
       "    <tr>\n",
       "      <th>914</th>\n",
       "      <td>g989</td>\n",
       "      <td>Propriva</td>\n",
       "      <td>Female</td>\n",
       "      <td>21</td>\n",
       "      <td>26</td>\n",
       "      <td>15</td>\n",
       "      <td>51.325852</td>\n",
       "      <td>1</td>\n",
       "    </tr>\n",
       "    <tr>\n",
       "      <th>915</th>\n",
       "      <td>g989</td>\n",
       "      <td>Propriva</td>\n",
       "      <td>Female</td>\n",
       "      <td>21</td>\n",
       "      <td>26</td>\n",
       "      <td>15</td>\n",
       "      <td>53.442020</td>\n",
       "      <td>0</td>\n",
       "    </tr>\n",
       "    <tr>\n",
       "      <th>916</th>\n",
       "      <td>g989</td>\n",
       "      <td>Propriva</td>\n",
       "      <td>Female</td>\n",
       "      <td>21</td>\n",
       "      <td>26</td>\n",
       "      <td>20</td>\n",
       "      <td>55.326122</td>\n",
       "      <td>1</td>\n",
       "    </tr>\n",
       "    <tr>\n",
       "      <th>917</th>\n",
       "      <td>g989</td>\n",
       "      <td>Propriva</td>\n",
       "      <td>Female</td>\n",
       "      <td>21</td>\n",
       "      <td>26</td>\n",
       "      <td>20</td>\n",
       "      <td>54.657650</td>\n",
       "      <td>1</td>\n",
       "    </tr>\n",
       "    <tr>\n",
       "      <th>918</th>\n",
       "      <td>g989</td>\n",
       "      <td>Propriva</td>\n",
       "      <td>Female</td>\n",
       "      <td>21</td>\n",
       "      <td>26</td>\n",
       "      <td>25</td>\n",
       "      <td>56.045564</td>\n",
       "      <td>1</td>\n",
       "    </tr>\n",
       "    <tr>\n",
       "      <th>919</th>\n",
       "      <td>g989</td>\n",
       "      <td>Propriva</td>\n",
       "      <td>Female</td>\n",
       "      <td>21</td>\n",
       "      <td>26</td>\n",
       "      <td>30</td>\n",
       "      <td>59.082294</td>\n",
       "      <td>1</td>\n",
       "    </tr>\n",
       "    <tr>\n",
       "      <th>920</th>\n",
       "      <td>g989</td>\n",
       "      <td>Propriva</td>\n",
       "      <td>Female</td>\n",
       "      <td>21</td>\n",
       "      <td>26</td>\n",
       "      <td>35</td>\n",
       "      <td>62.570880</td>\n",
       "      <td>2</td>\n",
       "    </tr>\n",
       "  </tbody>\n",
       "</table>\n",
       "</div>"
      ],
      "text/plain": [
       "    Mouse ID Drug Regimen     Sex  Age_months  Weight (g)  Timepoint  \\\n",
       "908     g989     Propriva  Female          21          26          0   \n",
       "909     g989     Propriva  Female          21          26          0   \n",
       "910     g989     Propriva  Female          21          26          5   \n",
       "911     g989     Propriva  Female          21          26          5   \n",
       "912     g989     Propriva  Female          21          26         10   \n",
       "913     g989     Propriva  Female          21          26         10   \n",
       "914     g989     Propriva  Female          21          26         15   \n",
       "915     g989     Propriva  Female          21          26         15   \n",
       "916     g989     Propriva  Female          21          26         20   \n",
       "917     g989     Propriva  Female          21          26         20   \n",
       "918     g989     Propriva  Female          21          26         25   \n",
       "919     g989     Propriva  Female          21          26         30   \n",
       "920     g989     Propriva  Female          21          26         35   \n",
       "\n",
       "     Tumor Volume (mm3)  Metastatic Sites  \n",
       "908           45.000000                 0  \n",
       "909           45.000000                 0  \n",
       "910           48.786801                 0  \n",
       "911           47.570392                 0  \n",
       "912           51.745156                 0  \n",
       "913           49.880528                 0  \n",
       "914           51.325852                 1  \n",
       "915           53.442020                 0  \n",
       "916           55.326122                 1  \n",
       "917           54.657650                 1  \n",
       "918           56.045564                 1  \n",
       "919           59.082294                 1  \n",
       "920           62.570880                 2  "
      ]
     },
     "execution_count": 20,
     "metadata": {},
     "output_type": "execute_result"
    }
   ],
   "source": [
    "# Optional: Get all the data for the duplicate mouse ID. \n",
    "dups = comb_data[comb_data['Mouse ID'].isin(list_of_dups)].copy()\n",
    "dups"
   ]
  },
  {
   "cell_type": "code",
   "execution_count": 21,
   "metadata": {},
   "outputs": [
    {
     "name": "stdout",
     "output_type": "stream",
     "text": [
      "Original dataset has 1893 entries.\n",
      "Duplicate dataset has 13 entries.\n",
      "Tidy dataset has 1880 entries.\n"
     ]
    }
   ],
   "source": [
    "# Create a clean DataFrame by dropping the duplicate mouse by its ID.\n",
    "tidy_data = comb_data[~comb_data['Mouse ID'].isin(list_of_dups)].copy()\n",
    "print('Original dataset has '  + str(comb_data.shape[0]) + ' entries.')\n",
    "print('Duplicate dataset has ' + str(dups.shape[0])      + ' entries.')\n",
    "print('Tidy dataset has '      + str(tidy_data.shape[0]) + ' entries.')"
   ]
  },
  {
   "cell_type": "code",
   "execution_count": 22,
   "metadata": {},
   "outputs": [
    {
     "name": "stdout",
     "output_type": "stream",
     "text": [
      "Number of mice in the clean DataFrame:  248\n"
     ]
    }
   ],
   "source": [
    "# Checking the number of mice in the clean DataFrame.\n",
    "num_mice1 = len(tidy_data['Mouse ID'].unique())\n",
    "print(\"Number of mice in the clean DataFrame: \",  num_mice1)"
   ]
  },
  {
   "cell_type": "markdown",
   "metadata": {},
   "source": [
    "## Summary Statistics"
   ]
  },
  {
   "cell_type": "code",
   "execution_count": 23,
   "metadata": {},
   "outputs": [],
   "source": [
    "# Generate a summary statistics table of mean, median, variance, standard deviation, and SEM of the tumor volume for each regimen\n",
    "\n",
    "# This method is the most straighforward, creating multiple series and putting them all together at the end.\n",
    "\n",
    "grouped_data = tidy_data.groupby('Drug Regimen')\n",
    "\n",
    "## number of observation\n",
    "num_obs = grouped_data['Tumor Volume (mm3)'].count()\n",
    "\n",
    "## mean\n",
    "mean_data = grouped_data['Tumor Volume (mm3)'].mean()\n",
    "\n",
    "## median\n",
    "median_data = grouped_data['Tumor Volume (mm3)'].median()\n",
    "\n",
    "## variance\n",
    "variance_data = grouped_data['Tumor Volume (mm3)'].var()\n",
    "\n",
    "## standard deviation\n",
    "stdev_data = grouped_data['Tumor Volume (mm3)'].std()\n",
    "\n",
    "## Standard error of mean\n",
    "'''\n",
    "standard error of the mean (SEM) measures how far the sample mean of the data is likely to be from the true population mean. \n",
    "The SEM is always smaller than the standard deviation.\n",
    "'''\n",
    "sem_data = grouped_data['Tumor Volume (mm3)'].sem()"
   ]
  },
  {
   "cell_type": "code",
   "execution_count": 24,
   "metadata": {
    "scrolled": true
   },
   "outputs": [
    {
     "data": {
      "text/html": [
       "<div>\n",
       "<style scoped>\n",
       "    .dataframe tbody tr th:only-of-type {\n",
       "        vertical-align: middle;\n",
       "    }\n",
       "\n",
       "    .dataframe tbody tr th {\n",
       "        vertical-align: top;\n",
       "    }\n",
       "\n",
       "    .dataframe thead th {\n",
       "        text-align: right;\n",
       "    }\n",
       "</style>\n",
       "<table border=\"1\" class=\"dataframe\">\n",
       "  <thead>\n",
       "    <tr style=\"text-align: right;\">\n",
       "      <th></th>\n",
       "      <th>Number of Observation</th>\n",
       "      <th>Mean</th>\n",
       "      <th>Median</th>\n",
       "      <th>Variance</th>\n",
       "      <th>Standard Deviation</th>\n",
       "      <th>Standard error of mean</th>\n",
       "    </tr>\n",
       "    <tr>\n",
       "      <th>Drug Regimen</th>\n",
       "      <th></th>\n",
       "      <th></th>\n",
       "      <th></th>\n",
       "      <th></th>\n",
       "      <th></th>\n",
       "      <th></th>\n",
       "    </tr>\n",
       "  </thead>\n",
       "  <tbody>\n",
       "    <tr>\n",
       "      <th>Capomulin</th>\n",
       "      <td>230</td>\n",
       "      <td>40.675741</td>\n",
       "      <td>41.557809</td>\n",
       "      <td>24.947764</td>\n",
       "      <td>4.994774</td>\n",
       "      <td>0.329346</td>\n",
       "    </tr>\n",
       "    <tr>\n",
       "      <th>Ceftamin</th>\n",
       "      <td>178</td>\n",
       "      <td>52.591172</td>\n",
       "      <td>51.776157</td>\n",
       "      <td>39.290177</td>\n",
       "      <td>6.268188</td>\n",
       "      <td>0.469821</td>\n",
       "    </tr>\n",
       "    <tr>\n",
       "      <th>Infubinol</th>\n",
       "      <td>178</td>\n",
       "      <td>52.884795</td>\n",
       "      <td>51.820584</td>\n",
       "      <td>43.128684</td>\n",
       "      <td>6.567243</td>\n",
       "      <td>0.492236</td>\n",
       "    </tr>\n",
       "    <tr>\n",
       "      <th>Ketapril</th>\n",
       "      <td>188</td>\n",
       "      <td>55.235638</td>\n",
       "      <td>53.698743</td>\n",
       "      <td>68.553577</td>\n",
       "      <td>8.279709</td>\n",
       "      <td>0.603860</td>\n",
       "    </tr>\n",
       "    <tr>\n",
       "      <th>Naftisol</th>\n",
       "      <td>186</td>\n",
       "      <td>54.331565</td>\n",
       "      <td>52.509285</td>\n",
       "      <td>66.173479</td>\n",
       "      <td>8.134708</td>\n",
       "      <td>0.596466</td>\n",
       "    </tr>\n",
       "    <tr>\n",
       "      <th>Placebo</th>\n",
       "      <td>181</td>\n",
       "      <td>54.033581</td>\n",
       "      <td>52.288934</td>\n",
       "      <td>61.168083</td>\n",
       "      <td>7.821003</td>\n",
       "      <td>0.581331</td>\n",
       "    </tr>\n",
       "    <tr>\n",
       "      <th>Propriva</th>\n",
       "      <td>148</td>\n",
       "      <td>52.320930</td>\n",
       "      <td>50.446266</td>\n",
       "      <td>43.852013</td>\n",
       "      <td>6.622085</td>\n",
       "      <td>0.544332</td>\n",
       "    </tr>\n",
       "    <tr>\n",
       "      <th>Ramicane</th>\n",
       "      <td>228</td>\n",
       "      <td>40.216745</td>\n",
       "      <td>40.673236</td>\n",
       "      <td>23.486704</td>\n",
       "      <td>4.846308</td>\n",
       "      <td>0.320955</td>\n",
       "    </tr>\n",
       "    <tr>\n",
       "      <th>Stelasyn</th>\n",
       "      <td>181</td>\n",
       "      <td>54.233149</td>\n",
       "      <td>52.431737</td>\n",
       "      <td>59.450562</td>\n",
       "      <td>7.710419</td>\n",
       "      <td>0.573111</td>\n",
       "    </tr>\n",
       "    <tr>\n",
       "      <th>Zoniferol</th>\n",
       "      <td>182</td>\n",
       "      <td>53.236507</td>\n",
       "      <td>51.818479</td>\n",
       "      <td>48.533355</td>\n",
       "      <td>6.966589</td>\n",
       "      <td>0.516398</td>\n",
       "    </tr>\n",
       "  </tbody>\n",
       "</table>\n",
       "</div>"
      ],
      "text/plain": [
       "              Number of Observation       Mean     Median   Variance  \\\n",
       "Drug Regimen                                                           \n",
       "Capomulin                       230  40.675741  41.557809  24.947764   \n",
       "Ceftamin                        178  52.591172  51.776157  39.290177   \n",
       "Infubinol                       178  52.884795  51.820584  43.128684   \n",
       "Ketapril                        188  55.235638  53.698743  68.553577   \n",
       "Naftisol                        186  54.331565  52.509285  66.173479   \n",
       "Placebo                         181  54.033581  52.288934  61.168083   \n",
       "Propriva                        148  52.320930  50.446266  43.852013   \n",
       "Ramicane                        228  40.216745  40.673236  23.486704   \n",
       "Stelasyn                        181  54.233149  52.431737  59.450562   \n",
       "Zoniferol                       182  53.236507  51.818479  48.533355   \n",
       "\n",
       "              Standard Deviation  Standard error of mean  \n",
       "Drug Regimen                                              \n",
       "Capomulin               4.994774                0.329346  \n",
       "Ceftamin                6.268188                0.469821  \n",
       "Infubinol               6.567243                0.492236  \n",
       "Ketapril                8.279709                0.603860  \n",
       "Naftisol                8.134708                0.596466  \n",
       "Placebo                 7.821003                0.581331  \n",
       "Propriva                6.622085                0.544332  \n",
       "Ramicane                4.846308                0.320955  \n",
       "Stelasyn                7.710419                0.573111  \n",
       "Zoniferol               6.966589                0.516398  "
      ]
     },
     "execution_count": 24,
     "metadata": {},
     "output_type": "execute_result"
    }
   ],
   "source": [
    "# Generate a summary statistics table of mean, median, variance, standard deviation, and SEM of the tumor volume for each regimen\n",
    "summary_stats = {\n",
    "    'Number of Observation'  : num_obs,\n",
    "    'Mean'                   : mean_data,\n",
    "    'Median'                 : median_data,\n",
    "    'Variance'               : variance_data, \n",
    "    'Standard Deviation'     : stdev_data,\n",
    "    'Standard error of mean' : sem_data\n",
    "}\n",
    "\n",
    "summary_stats = pd.DataFrame(summary_stats)\n",
    "\n",
    "summary_stats"
   ]
  },
  {
   "cell_type": "markdown",
   "metadata": {},
   "source": [
    "## Bar Plots"
   ]
  },
  {
   "cell_type": "code",
   "execution_count": 25,
   "metadata": {},
   "outputs": [
    {
     "data": {
      "image/png": "[encoded data removed]",
      "text/plain": [
       "<Figure size 432x288 with 1 Axes>"
      ]
     },
     "metadata": {
      "needs_background": "light"
     },
     "output_type": "display_data"
    }
   ],
   "source": [
    "# Generate a bar plot showing the number of mice per time point for each treatment throughout the course of the study using pandas. \n",
    "\n",
    "# '''cool method http://queirozf.com/entries/pandas-dataframe-plot-examples-with-matplotlib-pyplot'''\n",
    "# tidy_data.groupby(['Timepoint','Drug Regimen']).size().unstack().plot(kind='bar',stacked=True)\n",
    "# plt.show()\n",
    "\n",
    "## Group by Timepoint and Drug Regimen\n",
    "grouped_tidy = tidy_data.groupby(['Timepoint', 'Drug Regimen'])\n",
    "\n",
    "## Count number of mice\n",
    "num_mice = grouped_tidy['Mouse ID'].count()\n",
    "num_mice = pd.DataFrame(num_mice)\n",
    "num_mice = num_mice.rename(columns = {'Mouse ID' : 'Count'})\n",
    "\n",
    "# Plot\n",
    "num_mice.unstack().plot(kind = 'bar', y = 'Count', stacked=True)\n",
    "\n",
    "plt.title('Survival Number of Mice Per Time Point Per Treatment')\n",
    "plt.xlabel('Time Point')\n",
    "plt.ylabel('Number of Mice')\n",
    "plt.legend(bbox_to_anchor=(1, 1.05))\n",
    "plt.xlim(-0.5, len(tidy_data['Timepoint'].unique()))\n",
    "plt.ylim(0, 275)\n",
    "plt.grid()\n",
    "plt.show()"
   ]
  },
  {
   "cell_type": "code",
   "execution_count": 26,
   "metadata": {},
   "outputs": [
    {
     "name": "stdout",
     "output_type": "stream",
     "text": [
      "Capomulin\n",
      "Ceftamin\n",
      "Infubinol\n",
      "Ketapril\n",
      "Naftisol\n",
      "Placebo\n",
      "Propriva\n",
      "Ramicane\n",
      "Stelasyn\n",
      "Zoniferol\n"
     ]
    },
    {
     "data": {
      "image/png": "[encoded data removed]",
      "text/plain": [
       "<Figure size 432x288 with 1 Axes>"
      ]
     },
     "metadata": {
      "needs_background": "light"
     },
     "output_type": "display_data"
    }
   ],
   "source": [
    "# Generate a bar plot showing the number of mice per time point for each treatment throughout the course of the study using pyplot.\n",
    "x_axis = tidy_data['Timepoint'].unique()\n",
    "\n",
    "plt_num_mice = num_mice.reset_index()\n",
    "\n",
    "treatments = plt_num_mice['Drug Regimen'][0:10].unique()\n",
    "\n",
    "bottom = [0, 0, 0, 0, 0,\n",
    "          0, 0, 0, 0, 0]\n",
    "\n",
    "for tm in treatments:\n",
    "\n",
    "    print(tm)\n",
    "    \n",
    "    y_axis = plt_num_mice.loc[plt_num_mice['Drug Regimen'] == tm, 'Count'].tolist() \n",
    "    plt.bar(x_axis, y_axis, label = tm, width=2.5, bottom = bottom)\n",
    "    # Add the data to bottom, so bar chart can stack \n",
    "    bottom = np.add(bottom, y_axis)\n",
    "    \n",
    "plt.title('Survival Number of Mice Per Time Point Per Treatment')\n",
    "plt.xlabel('Time Point')\n",
    "plt.ylabel('Number of Mice')\n",
    "plt.legend(bbox_to_anchor=(1, 1.05))\n",
    "plt.xlim(-2, 47.5)\n",
    "plt.ylim(0, 275)\n",
    "plt.xticks(x_axis, x_axis)\n",
    "plt.grid()\n",
    "plt.show()\n"
   ]
  },
  {
   "cell_type": "markdown",
   "metadata": {},
   "source": [
    "## Pie Plots"
   ]
  },
  {
   "cell_type": "code",
   "execution_count": 27,
   "metadata": {},
   "outputs": [
    {
     "data": {
      "image/png": "[encoded data removed]",
      "text/plain": [
       "<Figure size 432x288 with 1 Axes>"
      ]
     },
     "metadata": {},
     "output_type": "display_data"
    }
   ],
   "source": [
    "# Generate a pie plot showing the distribution of female versus male mice using pandas\n",
    "grouped_gender = tidy_data.groupby('Sex')\n",
    "gender_dist = grouped_gender['Mouse ID'].count()\n",
    "gender_df = pd.DataFrame(gender_dist)\n",
    "gender_df = gender_df.rename(columns = {'Mouse ID' : 'Count'})\n",
    "\n",
    "gender_df.plot(kind = 'pie', y = 'Count', autopct = \"%1.2f%%\", shadow = True, startangle = 90, pctdistance = 0.3, labeldistance = 0.6)\n",
    "plt.title('Mice Gender Distribution')\n",
    "plt.legend(loc = 'upper right')\n",
    "plt.axis('equal')\n",
    "plt.show()"
   ]
  },
  {
   "cell_type": "code",
   "execution_count": 28,
   "metadata": {},
   "outputs": [
    {
     "data": {
      "image/png": "[encoded data removed]",
      "text/plain": [
       "<Figure size 432x288 with 1 Axes>"
      ]
     },
     "metadata": {},
     "output_type": "display_data"
    }
   ],
   "source": [
    "# Generate a pie plot showing the distribution of female versus male mice using pyplot\n",
    "\n",
    "grouped_gender = tidy_data.groupby('Sex')\n",
    "gender_dist = grouped_gender['Mouse ID'].count()\n",
    "\n",
    "labels = gender_dist.keys().tolist()\n",
    "sizes = gender_dist.tolist()\n",
    "explode = (0, 0)\n",
    "\n",
    "plt.pie(sizes, explode = explode, labels = labels, autopct = \"%1.2f%%\", shadow = True, startangle = 90, pctdistance = 0.3, labeldistance = 0.6)\n",
    "plt.title('Mice Gender Distribution')\n",
    "plt.legend(loc = 'upper right')\n",
    "plt.axis('equal')\n",
    "plt.show()"
   ]
  },
  {
   "cell_type": "markdown",
   "metadata": {},
   "source": [
    "## Quartiles, Outliers and Boxplots"
   ]
  },
  {
   "cell_type": "code",
   "execution_count": 29,
   "metadata": {},
   "outputs": [
    {
     "data": {
      "text/html": [
       "<div>\n",
       "<style scoped>\n",
       "    .dataframe tbody tr th:only-of-type {\n",
       "        vertical-align: middle;\n",
       "    }\n",
       "\n",
       "    .dataframe tbody tr th {\n",
       "        vertical-align: top;\n",
       "    }\n",
       "\n",
       "    .dataframe thead th {\n",
       "        text-align: right;\n",
       "    }\n",
       "</style>\n",
       "<table border=\"1\" class=\"dataframe\">\n",
       "  <thead>\n",
       "    <tr style=\"text-align: right;\">\n",
       "      <th></th>\n",
       "      <th>Mouse ID</th>\n",
       "      <th>Drug Regimen</th>\n",
       "      <th>Sex</th>\n",
       "      <th>Age_months</th>\n",
       "      <th>Weight (g)</th>\n",
       "      <th>Timepoint</th>\n",
       "      <th>Tumor Volume (mm3)</th>\n",
       "      <th>Metastatic Sites</th>\n",
       "    </tr>\n",
       "  </thead>\n",
       "  <tbody>\n",
       "    <tr>\n",
       "      <th>1455</th>\n",
       "      <td>r157</td>\n",
       "      <td>Capomulin</td>\n",
       "      <td>Male</td>\n",
       "      <td>22</td>\n",
       "      <td>25</td>\n",
       "      <td>15</td>\n",
       "      <td>46.539206</td>\n",
       "      <td>0</td>\n",
       "    </tr>\n",
       "    <tr>\n",
       "      <th>440</th>\n",
       "      <td>i557</td>\n",
       "      <td>Capomulin</td>\n",
       "      <td>Female</td>\n",
       "      <td>1</td>\n",
       "      <td>24</td>\n",
       "      <td>45</td>\n",
       "      <td>47.685963</td>\n",
       "      <td>1</td>\n",
       "    </tr>\n",
       "    <tr>\n",
       "      <th>370</th>\n",
       "      <td>s710</td>\n",
       "      <td>Capomulin</td>\n",
       "      <td>Female</td>\n",
       "      <td>1</td>\n",
       "      <td>23</td>\n",
       "      <td>45</td>\n",
       "      <td>40.728578</td>\n",
       "      <td>1</td>\n",
       "    </tr>\n",
       "    <tr>\n",
       "      <th>164</th>\n",
       "      <td>t565</td>\n",
       "      <td>Capomulin</td>\n",
       "      <td>Female</td>\n",
       "      <td>20</td>\n",
       "      <td>17</td>\n",
       "      <td>45</td>\n",
       "      <td>34.455298</td>\n",
       "      <td>0</td>\n",
       "    </tr>\n",
       "    <tr>\n",
       "      <th>317</th>\n",
       "      <td>j246</td>\n",
       "      <td>Capomulin</td>\n",
       "      <td>Female</td>\n",
       "      <td>21</td>\n",
       "      <td>21</td>\n",
       "      <td>35</td>\n",
       "      <td>38.753265</td>\n",
       "      <td>1</td>\n",
       "    </tr>\n",
       "  </tbody>\n",
       "</table>\n",
       "</div>"
      ],
      "text/plain": [
       "     Mouse ID Drug Regimen     Sex  Age_months  Weight (g)  Timepoint  \\\n",
       "1455     r157    Capomulin    Male          22          25         15   \n",
       "440      i557    Capomulin  Female           1          24         45   \n",
       "370      s710    Capomulin  Female           1          23         45   \n",
       "164      t565    Capomulin  Female          20          17         45   \n",
       "317      j246    Capomulin  Female          21          21         35   \n",
       "\n",
       "      Tumor Volume (mm3)  Metastatic Sites  \n",
       "1455           46.539206                 0  \n",
       "440            47.685963                 1  \n",
       "370            40.728578                 1  \n",
       "164            34.455298                 0  \n",
       "317            38.753265                 1  "
      ]
     },
     "execution_count": 29,
     "metadata": {},
     "output_type": "execute_result"
    }
   ],
   "source": [
    "# Calculate the final tumor volume of each mouse across four of the most promising treatment regimens: Capomulin, Ramicane, Infubinol, and Ceftamin. \n",
    "\n",
    "promising_tm = ['Capomulin', 'Ramicane', 'Infubinol', 'Ceftamin']\n",
    "\n",
    "# Filter dataset to only promising_tm\n",
    "filtered_data = tidy_data.loc[tidy_data['Drug Regimen'].isin(promising_tm)].copy()\n",
    "\n",
    "# Sort filtered data by Mouse ID and then Timepoint\n",
    "filtered_data = filtered_data.sort_values(['Mouse ID', 'Timepoint'])\n",
    "\n",
    "# Finding the last tumor volume using drop duplicates\n",
    "filtered_data = filtered_data.drop_duplicates(subset = 'Mouse ID', keep = 'last')\n",
    "\n",
    "# Judgement call: Droping mice that only has Timepoint = 0 observation. I beleive these observations were initial tumor volume instead of final.\n",
    "filtered_data = filtered_data.loc[filtered_data['Timepoint'] != 0].copy()\n",
    "\n",
    "# Sort by Treatments\n",
    "filtered_data = filtered_data.sort_values('Drug Regimen')\n",
    "\n",
    "filtered_data.head()"
   ]
  },
  {
   "cell_type": "code",
   "execution_count": 30,
   "metadata": {},
   "outputs": [
    {
     "name": "stdout",
     "output_type": "stream",
     "text": [
      "             First Q    Third Q        IQR  Lower Bound  Upper Bound\n",
      "Capomulin  32.377357  40.159220   7.781863    20.704562    51.832015\n",
      "Ramicane   31.560470  40.659006   9.098537    17.912664    54.306811\n",
      "Infubinol  54.048608  65.525743  11.477135    36.832905    82.741446\n",
      "Ceftamin   56.057749  64.634949   8.577200    43.191949    77.500749\n",
      "    Mouse ID Drug Regimen     Sex  Age_months  Weight (g)  Timepoint  \\\n",
      "669     c326    Infubinol  Female          18          25          5   \n",
      "\n",
      "     Tumor Volume (mm3)  Metastatic Sites  \n",
      "669           36.321346                 0  \n"
     ]
    }
   ],
   "source": [
    "# Calculate the quartiles and IQR and quantitatively determine if there are any potential outliers across all four treatment regimens.\n",
    "\n",
    "promising_tm_dict = {}\n",
    "\n",
    "for tm in promising_tm:\n",
    "    quartiles = tm + '_quartiles'\n",
    "    \n",
    "    # Create quartile\n",
    "    exec(f\"{quartiles} = filtered_data.loc[filtered_data['Drug Regimen'] == '{tm}', 'Tumor Volume (mm3)'].quantile([.25,.5,.75])\")\n",
    "    # 1st quartile\n",
    "    exec(f\"{tm}_lowerq = {tm}_quartiles[0.25]\")\n",
    "    # 3rd quartile\n",
    "    exec(f\"{tm}_upperq = {tm}_quartiles[0.75]\")\n",
    "    # IQR\n",
    "    exec(f\"{tm}_irq    = {tm}_upperq - {tm}_lowerq\")\n",
    "    # Lower bound\n",
    "    exec(f\"{tm}_lower_bound = {tm}_lowerq - (1.5 * {tm}_irq)\")  \n",
    "    # Upper bound\n",
    "    exec(f\"{tm}_upper_bound = {tm}_upperq + (1.5 * {tm}_irq)\")\n",
    "    \n",
    "    # put calculation into a dictionary\n",
    "    exec(f\"promising_tm_dict['{tm}'] = [{tm}_lowerq, {tm}_upperq, {tm}_irq, {tm}_lower_bound, {tm}_upper_bound]\")\n",
    "    \n",
    "    # Filter data\n",
    "    exec(f\"{tm}_data = filtered_data.loc[(filtered_data['Drug Regimen'] == '{tm}')].copy()\")   \n",
    "    \n",
    "    # Find outlier \n",
    "    exec(f\"{tm}_outlier= {tm}_data.loc[({tm}_data['Tumor Volume (mm3)']  < {tm}_lower_bound) | ({tm}_data['Tumor Volume (mm3)'] > {tm}_upper_bound)]\")\n",
    "\n",
    "\n",
    "# Print quartiles, IQR, lower and upper bounds data\n",
    "quartiles_df = pd.DataFrame(promising_tm_dict)\n",
    "quartiles_df = quartiles_df.transpose()\n",
    "quartiles_df = quartiles_df.rename(columns = {0 : 'First Q'    , \n",
    "                                              1 : 'Third Q'    ,\n",
    "                                              2 : 'IQR'        ,\n",
    "                                              3 : 'Lower Bound',\n",
    "                                              4 : 'Upper Bound',\n",
    "                                             })\n",
    "\n",
    "print(quartiles_df)\n",
    "\n",
    "# Print all outliers data    \n",
    "all_outliers = Capomulin_outlier.append(Ramicane_outlier).append(Infubinol_outlier).append(Ceftamin_outlier)\n",
    "\n",
    "print(all_outliers)"
   ]
  },
  {
   "cell_type": "code",
   "execution_count": 31,
   "metadata": {},
   "outputs": [
    {
     "data": {
      "image/png": "[encoded data removed]",
      "text/plain": [
       "<Figure size 432x288 with 1 Axes>"
      ]
     },
     "metadata": {
      "needs_background": "light"
     },
     "output_type": "display_data"
    }
   ],
   "source": [
    "# Generate a box plot of the final tumor volume of each mouse across four regimens of interest\n",
    "\n",
    "data_to_plot = [Capomulin_data['Tumor Volume (mm3)'],\n",
    "                Ramicane_data['Tumor Volume (mm3)' ],\n",
    "                Infubinol_data['Tumor Volume (mm3)'],\n",
    "                Ceftamin_data['Tumor Volume (mm3)' ],\n",
    "               ]\n",
    "\n",
    "plt.boxplot(data_to_plot, sym='y')\n",
    "plt.xticks([1, 2, 3, 4], promising_tm)\n",
    "plt.title('Tumor Volume (mm3) Distribution')\n",
    "plt.xlabel('Drug Regimen')\n",
    "plt.ylabel('Cubic Millimetre (mm3)')\n",
    "plt.show()"
   ]
  },
  {
   "cell_type": "markdown",
   "metadata": {},
   "source": [
    "## Line and Scatter Plots"
   ]
  },
  {
   "cell_type": "code",
   "execution_count": 32,
   "metadata": {},
   "outputs": [
    {
     "data": {
      "image/png": "[encoded data removed]",
      "text/plain": [
       "<Figure size 432x288 with 1 Axes>"
      ]
     },
     "metadata": {
      "needs_background": "light"
     },
     "output_type": "display_data"
    }
   ],
   "source": [
    "# Generate a line plot of time point versus tumor volume for a mouse treated with Capomulin\n",
    "Capomulin_time = tidy_data.loc[tidy_data['Drug Regimen'] == 'Capomulin'].copy()\n",
    "\n",
    "# Isolate One Mouse\n",
    "one_Capomulin_mouse = Capomulin_time.loc[Capomulin_time['Mouse ID'] == 's185'].copy()\n",
    "\n",
    "one_Capomulin_mouse.plot(kind = 'line', x = 'Timepoint', y = 'Tumor Volume (mm3)', color = 'darkorange')\n",
    "\n",
    "plt.title('Mouse s185 Tumor Volume over Time using Capomulin')\n",
    "plt.xlabel('Time Points')\n",
    "plt.ylabel('Cubic Millimetre (mm3)')\n",
    "plt.grid()\n",
    "plt.show()"
   ]
  },
  {
   "cell_type": "code",
   "execution_count": 33,
   "metadata": {},
   "outputs": [
    {
     "data": {
      "image/png": "[encoded data removed]",
      "text/plain": [
       "<Figure size 432x288 with 1 Axes>"
      ]
     },
     "metadata": {
      "needs_background": "light"
     },
     "output_type": "display_data"
    }
   ],
   "source": [
    "# Just Curious Section\n",
    "# Generate a line plot of time point versus tumor volume for all mice treated with Capomulin\n",
    "\n",
    "Capomulin_time = tidy_data.loc[tidy_data['Drug Regimen'] == 'Capomulin'].copy()\n",
    "\n",
    "grouped_Capomulin = Capomulin_time.groupby('Timepoint').mean()\n",
    "\n",
    "grouped_Capomulin = grouped_Capomulin.reset_index(drop = False)\n",
    "\n",
    "grouped_Capomulin.plot(kind = 'line', x = 'Timepoint', y = 'Tumor Volume (mm3)', color = 'darkorange')\n",
    "\n",
    "plt.title('Average Tumor Volume over Time using Capomulin')\n",
    "plt.xlabel('Time Points')\n",
    "plt.ylabel('Cubic Millimetre (mm3)')\n",
    "plt.grid()\n",
    "plt.show()"
   ]
  },
  {
   "cell_type": "code",
   "execution_count": 34,
   "metadata": {},
   "outputs": [
    {
     "data": {
      "image/png": "[encoded data removed]",
      "text/plain": [
       "<Figure size 432x288 with 1 Axes>"
      ]
     },
     "metadata": {
      "needs_background": "light"
     },
     "output_type": "display_data"
    }
   ],
   "source": [
    "# Generate a scatter plot of mouse weight versus average tumor volume for the Capomulin regimen\n",
    "Capomulin_mice_wgt = tidy_data.loc[tidy_data['Drug Regimen'] == 'Capomulin'].copy()\n",
    "\n",
    "grouped_Capomulin_mice = Capomulin_mice_wgt.groupby('Mouse ID').mean()\n",
    "\n",
    "grouped_Capomulin_mice.plot(kind = 'scatter', x = 'Weight (g)', y = 'Tumor Volume (mm3)', color = 'darkorange')\n",
    "\n",
    "plt.title('Mouse weight vs Tumor Volume using Capomulin')\n",
    "plt.xlabel('Weight (g)')\n",
    "plt.ylabel('Cubic Millimetre (mm3)')\n",
    "plt.grid()\n",
    "plt.show()"
   ]
  },
  {
   "cell_type": "markdown",
   "metadata": {},
   "source": [
    "## Correlation and Regression"
   ]
  },
  {
   "cell_type": "code",
   "execution_count": 35,
   "metadata": {},
   "outputs": [
    {
     "data": {
      "image/png": "[encoded data removed]",
      "text/plain": [
       "<Figure size 432x288 with 1 Axes>"
      ]
     },
     "metadata": {
      "needs_background": "light"
     },
     "output_type": "display_data"
    },
    {
     "name": "stdout",
     "output_type": "stream",
     "text": [
      "Correlation Coefficient: 0.8419363424694718\n",
      "Linear Regression Model: y = 0.95x + 21.55\n"
     ]
    }
   ],
   "source": [
    "# Calculate the correlation coefficient and linear regression model \n",
    "# for mouse weight and average tumor volume for the Capomulin regimen\n",
    "\n",
    "x_values = grouped_Capomulin_mice['Weight (g)']\n",
    "y_values = grouped_Capomulin_mice['Tumor Volume (mm3)']\n",
    "(slope, intercept, rvalue, pvalue, stderr) = linregress(x_values, y_values)\n",
    "regress_values = (x_values * slope) + intercept\n",
    "line_eq = \"y = \" + str(round(slope,2)) + \"x + \" + str(round(intercept,2))\n",
    "plt.scatter(x_values,y_values)\n",
    "plt.plot(x_values,regress_values,\"black\")\n",
    "plt.annotate(line_eq,(18,38),fontsize=10,color=\"red\")\n",
    "plt.title('Mouse weight vs Tumor Volume using Capomulin')\n",
    "plt.xlabel('Weight (g)')\n",
    "plt.ylabel('Cubic Millimetre (mm3)')\n",
    "plt.grid()\n",
    "plt.show()\n",
    "\n",
    "print('Correlation Coefficient: ' + str(rvalue))\n",
    "print('Linear Regression Model: ' + line_eq)"
   ]
  },
  {
   "cell_type": "code",
   "execution_count": 36,
   "metadata": {},
   "outputs": [
    {
     "name": "stdout",
     "output_type": "stream",
     "text": [
      "0.8419363424694718 0.8419363424694717\n"
     ]
    }
   ],
   "source": [
    "# Linear Regression\n",
    "(slope, intercept, rvalue, pvalue, stderr) = linregress(x_values, y_values)\n",
    "\n",
    "# Pearson r\n",
    "pearsonr = stats.pearsonr(x_values,y_values)\n",
    "\n",
    "print(rvalue, pearsonr[0])"
   ]
  },
  {
   "cell_type": "code",
   "execution_count": null,
   "metadata": {},
   "outputs": [],
   "source": []
  }
 ],
 "metadata": {
  "anaconda-cloud": {},
  "kernelspec": {
   "display_name": "via2",
   "language": "python",
   "name": "via2"
  },
  "language_info": {
   "codemirror_mode": {
    "name": "ipython",
    "version": 3
   },
   "file_extension": ".py",
   "mimetype": "text/x-python",
   "name": "python",
   "nbconvert_exporter": "python",
   "pygments_lexer": "ipython3",
   "version": "3.7.3"
  }
 },
 "nbformat": 4,
 "nbformat_minor": 4
}
