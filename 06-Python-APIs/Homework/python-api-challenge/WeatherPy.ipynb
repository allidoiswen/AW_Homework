{
 "cells": [
  {
   "cell_type": "markdown",
   "metadata": {},
   "source": [
    "# WeatherPy\n",
    "----\n",
    "\n",
    "#### Note\n",
    "* Instructions have been included for each segment. You do not have to follow them exactly, but they are included to help you think through the steps."
   ]
  },
  {
   "cell_type": "code",
   "execution_count": 1,
   "metadata": {
    "scrolled": true
   },
   "outputs": [],
   "source": [
    "# Dependencies and Setup\n",
    "import matplotlib.pyplot as plt\n",
    "import pandas as pd\n",
    "import numpy as np\n",
    "import requests\n",
    "import time\n",
    "import json\n",
    "from scipy.stats import linregress\n",
    "from pprint import pprint\n",
    "\n",
    "# Import API key\n",
    "from api_keys import weather_api_key\n",
    "\n",
    "# Incorporated citipy to determine city based on latitude and longitude\n",
    "from citipy import citipy\n",
    "\n",
    "# Output File (CSV)\n",
    "output_data_file = \"output_data/cities.csv\"\n",
    "\n",
    "# Range of latitudes and longitudes\n",
    "lat_range = (-90, 90)\n",
    "lng_range = (-180, 180)"
   ]
  },
  {
   "cell_type": "markdown",
   "metadata": {},
   "source": [
    "## Generate Cities List"
   ]
  },
  {
   "cell_type": "code",
   "execution_count": 2,
   "metadata": {},
   "outputs": [
    {
     "data": {
      "text/plain": [
       "582"
      ]
     },
     "execution_count": 2,
     "metadata": {},
     "output_type": "execute_result"
    }
   ],
   "source": [
    "# List for holding lat_lngs and cities\n",
    "lat_lngs = []\n",
    "cities = []\n",
    "\n",
    "# Create a set of random lat and lng combinations\n",
    "np.random.seed(412)\n",
    "lats = np.random.uniform(low=-90.000, high=90.000, size=1500)\n",
    "lngs = np.random.uniform(low=-180.000, high=180.000, size=1500)\n",
    "lat_lngs = zip(lats, lngs)\n",
    "\n",
    "# Identify nearest city for each lat, lng combination\n",
    "for lat_lng in lat_lngs:\n",
    "    city = citipy.nearest_city(lat_lng[0], lat_lng[1]).city_name\n",
    "    \n",
    "    # If the city is unique, then add it to a our cities list\n",
    "    if city not in cities:\n",
    "        cities.append(city)\n",
    "\n",
    "# Print the city count to confirm sufficient count\n",
    "total_num_cities = len(cities)\n",
    "total_num_cities"
   ]
  },
  {
   "cell_type": "markdown",
   "metadata": {},
   "source": [
    "### Perform API Calls\n",
    "* Perform a weather check on each city using a series of successive API calls.\n",
    "* Include a print log of each city as it'sbeing processed (with the city number and city name).\n"
   ]
  },
  {
   "cell_type": "code",
   "execution_count": 3,
   "metadata": {},
   "outputs": [
    {
     "name": "stdout",
     "output_type": "stream",
     "text": [
      "{'base': 'stations',\n",
      " 'clouds': {'all': 20},\n",
      " 'cod': 200,\n",
      " 'coord': {'lat': 33.75, 'lon': -84.39},\n",
      " 'dt': 1586706040,\n",
      " 'id': 4180439,\n",
      " 'main': {'feels_like': 53.2,\n",
      "          'humidity': 77,\n",
      "          'pressure': 1015,\n",
      "          'temp': 58.05,\n",
      "          'temp_max': 61,\n",
      "          'temp_min': 53.01},\n",
      " 'name': 'Atlanta',\n",
      " 'rain': {'1h': 0.25},\n",
      " 'sys': {'country': 'US',\n",
      "         'id': 4155,\n",
      "         'sunrise': 1586689786,\n",
      "         'sunset': 1586736369,\n",
      "         'type': 1},\n",
      " 'timezone': -14400,\n",
      " 'visibility': 16093,\n",
      " 'weather': [{'description': 'light rain',\n",
      "              'icon': '10d',\n",
      "              'id': 500,\n",
      "              'main': 'Rain'}],\n",
      " 'wind': {'deg': 120, 'speed': 9.17}}\n"
     ]
    }
   ],
   "source": [
    "# Set up configuration\n",
    "open_weather_url = \"http://api.openweathermap.org/data/2.5/weather?\"\n",
    "units = \"imperial\"\n",
    "\n",
    "# Build partial query URL\n",
    "query_url = f\"{open_weather_url}appid={weather_api_key}&units={units}&q=\"\n",
    "\n",
    "# Test Connection\n",
    "response = requests.get(query_url + 'Atlanta').json()\n",
    "pprint(response)"
   ]
  },
  {
   "cell_type": "code",
   "execution_count": 4,
   "metadata": {},
   "outputs": [
    {
     "name": "stdout",
     "output_type": "stream",
     "text": [
      "1  :  talnakh  data downloaded. progress: 1 / 582\n",
      "2  :  pangnirtung  data downloaded. progress: 2 / 582\n",
      "3  :  mataura  data downloaded. progress: 3 / 582\n",
      "4  :  hilo  data downloaded. progress: 4 / 582\n",
      "5  :  busselton  data downloaded. progress: 5 / 582\n",
      "6  :  atuona  data downloaded. progress: 6 / 582\n",
      "7  :  hereford  data downloaded. progress: 7 / 582\n",
      "8  :  castro  data downloaded. progress: 8 / 582\n",
      "9  :  sur  data downloaded. progress: 9 / 582\n",
      "10  :  aitape  data downloaded. progress: 10 / 582\n",
      "11  :  puerto ayora  data downloaded. progress: 11 / 582\n",
      "12  :  faanui  data downloaded. progress: 12 / 582\n",
      "13  :  dingle  data downloaded. progress: 13 / 582\n",
      "14  :  kentau  data downloaded. progress: 14 / 582\n",
      "15  :  kununurra  data downloaded. progress: 15 / 582\n",
      "16  :  sao gabriel da cachoeira  data downloaded. progress: 16 / 582\n",
      "17  :  chokurdakh  data downloaded. progress: 17 / 582\n",
      "18  :  new norfolk  data downloaded. progress: 18 / 582\n",
      "19  :  berdigestyakh  data downloaded. progress: 19 / 582\n",
      "20  :  vila velha  data downloaded. progress: 20 / 582\n",
      "21  :  rosetown  data downloaded. progress: 21 / 582\n",
      "22  :  sao luiz gonzaga  data downloaded. progress: 22 / 582\n",
      "23  :  yellowknife  data downloaded. progress: 23 / 582\n",
      "24  :  avarua  data downloaded. progress: 24 / 582\n",
      "25  :  bethel  data downloaded. progress: 25 / 582\n",
      "26  :  albany  data downloaded. progress: 26 / 582\n",
      "27  :  mahebourg  data downloaded. progress: 27 / 582\n",
      "28  :  carnarvon  data downloaded. progress: 28 / 582\n",
      "29  :  dikson  data downloaded. progress: 29 / 582\n",
      "30  :  pontes e lacerda  data downloaded. progress: 30 / 582\n",
      "31  :  puerto lopez  data downloaded. progress: 31 / 582\n",
      "32  :  kruisfontein  data downloaded. progress: 32 / 582\n",
      "33  :  ribeira grande  data downloaded. progress: 33 / 582\n",
      "34  :  port elizabeth  data downloaded. progress: 34 / 582\n",
      "35  :  arraial do cabo  data downloaded. progress: 35 / 582\n",
      "36  :  springbok  data downloaded. progress: 36 / 582\n",
      "37  :  nizhneyansk  data downloaded. progress: 37 / 582\n",
      "38  :  rikitea  data downloaded. progress: 38 / 582\n",
      "39  :  kodiak  data downloaded. progress: 39 / 582\n",
      "40  :  upernavik  data downloaded. progress: 40 / 582\n",
      "41  :  hobyo  data downloaded. progress: 41 / 582\n",
      "42  :  olafsvik  data downloaded. progress: 42 / 582\n",
      "43  :  sindand  data downloaded. progress: 43 / 582\n",
      "44  :  sinkat  data downloaded. progress: 44 / 582\n",
      "45  :  barentsburg  data downloaded. progress: 45 / 582\n",
      "46  :  kokkola  data downloaded. progress: 46 / 582\n",
      "47  :  tabas  data downloaded. progress: 47 / 582\n",
      "48  :  oranjestad  data downloaded. progress: 48 / 582\n",
      "49  :  illoqqortoormiut  data downloaded. progress: 49 / 582\n",
      "50  :  kavieng  data downloaded. progress: 50 / 582\n",
      "51  :  mar del plata  data downloaded. progress: 51 / 582\n",
      "52  :  teya  data downloaded. progress: 52 / 582\n",
      "53  :  masterton  data downloaded. progress: 53 / 582\n",
      "54  :  dicabisagan  data downloaded. progress: 54 / 582\n",
      "55  :  saleaula  data downloaded. progress: 55 / 582\n",
      "56  :  barrow  data downloaded. progress: 56 / 582\n",
      "57  :  aksarka  data downloaded. progress: 57 / 582\n",
      "58  :  punta arenas  data downloaded. progress: 58 / 582\n",
      "59  :  nhulunbuy  data downloaded. progress: 59 / 582\n",
      "60  :  constitucion  data downloaded. progress: 60 / 582\n",
      "61  :  moelv  data downloaded. progress: 61 / 582\n",
      "62  :  tsihombe  data downloaded. progress: 62 / 582\n",
      "63  :  lindi  data downloaded. progress: 63 / 582\n",
      "64  :  sitka  data downloaded. progress: 64 / 582\n",
      "65  :  naze  data downloaded. progress: 65 / 582\n",
      "66  :  klaksvik  data downloaded. progress: 66 / 582\n",
      "67  :  victoria  data downloaded. progress: 67 / 582\n",
      "68  :  longyearbyen  data downloaded. progress: 68 / 582\n",
      "69  :  qasigiannguit  data downloaded. progress: 69 / 582\n",
      "70  :  veraval  data downloaded. progress: 70 / 582\n",
      "71  :  lagoa  data downloaded. progress: 71 / 582\n",
      "72  :  garowe  data downloaded. progress: 72 / 582\n",
      "73  :  praia da vitoria  data downloaded. progress: 73 / 582\n",
      "74  :  norman wells  data downloaded. progress: 74 / 582\n",
      "75  :  esperance  data downloaded. progress: 75 / 582\n",
      "76  :  kapaa  data downloaded. progress: 76 / 582\n",
      "77  :  wolmaranstad  data downloaded. progress: 77 / 582\n",
      "78  :  valle nacional  data downloaded. progress: 78 / 582\n",
      "79  :  torbay  data downloaded. progress: 79 / 582\n",
      "80  :  shreveport  data downloaded. progress: 80 / 582\n",
      "81  :  upington  data downloaded. progress: 81 / 582\n",
      "82  :  ngunguru  data downloaded. progress: 82 / 582\n",
      "83  :  rudsar  data downloaded. progress: 83 / 582\n",
      "84  :  hermanus  data downloaded. progress: 84 / 582\n",
      "85  :  mitsamiouli  data downloaded. progress: 85 / 582\n",
      "86  :  port alfred  data downloaded. progress: 86 / 582\n",
      "87  :  mildura  data downloaded. progress: 87 / 582\n",
      "88  :  alagoinhas  data downloaded. progress: 88 / 582\n",
      "89  :  ardakan  data downloaded. progress: 89 / 582\n",
      "90  :  khatanga  data downloaded. progress: 90 / 582\n",
      "91  :  bengkulu  data downloaded. progress: 91 / 582\n",
      "92  :  burnie  data downloaded. progress: 92 / 582\n",
      "93  :  pevek  data downloaded. progress: 93 / 582\n",
      "94  :  deputatskiy  data downloaded. progress: 94 / 582\n",
      "95  :  bandarbeyla  data downloaded. progress: 95 / 582\n",
      "96  :  tumannyy  data downloaded. progress: 96 / 582\n",
      "97  :  sao filipe  data downloaded. progress: 97 / 582\n",
      "98  :  hithadhoo  data downloaded. progress: 98 / 582\n",
      "99  :  denpasar  data downloaded. progress: 99 / 582\n",
      "100  :  nara  data downloaded. progress: 100 / 582\n",
      "101  :  cabo san lucas  data downloaded. progress: 101 / 582\n",
      "102  :  lorengau  data downloaded. progress: 102 / 582\n",
      "103  :  turukhansk  data downloaded. progress: 103 / 582\n",
      "104  :  kargat  data downloaded. progress: 104 / 582\n",
      "105  :  nanortalik  data downloaded. progress: 105 / 582\n",
      "106  :  bluff  data downloaded. progress: 106 / 582\n",
      "107  :  beloha  data downloaded. progress: 107 / 582\n",
      "108  :  qaanaaq  data downloaded. progress: 108 / 582\n",
      "109  :  hambantota  data downloaded. progress: 109 / 582\n",
      "110  :  thompson  data downloaded. progress: 110 / 582\n",
      "111  :  taolanaro  data downloaded. progress: 111 / 582\n",
      "112  :  bardstown  data downloaded. progress: 112 / 582\n",
      "113  :  vostok  data downloaded. progress: 113 / 582\n",
      "114  :  wentzville  data downloaded. progress: 114 / 582\n",
      "115  :  sabang  data downloaded. progress: 115 / 582\n",
      "116  :  tuktoyaktuk  data downloaded. progress: 116 / 582\n",
      "117  :  sibut  data downloaded. progress: 117 / 582\n",
      "118  :  georgetown  data downloaded. progress: 118 / 582\n",
      "119  :  umm kaddadah  data downloaded. progress: 119 / 582\n",
      "120  :  saint george  data downloaded. progress: 120 / 582\n",
      "121  :  puteyets  data downloaded. progress: 121 / 582\n",
      "122  :  ushuaia  data downloaded. progress: 122 / 582\n",
      "123  :  calama  data downloaded. progress: 123 / 582\n",
      "124  :  hervey bay  data downloaded. progress: 124 / 582\n",
      "125  :  honningsvag  data downloaded. progress: 125 / 582\n",
      "126  :  cidreira  data downloaded. progress: 126 / 582\n",
      "127  :  ksenyevka  data downloaded. progress: 127 / 582\n",
      "128  :  parkhill  data downloaded. progress: 128 / 582\n",
      "129  :  vanavara  data downloaded. progress: 129 / 582\n",
      "130  :  saint-augustin  data downloaded. progress: 130 / 582\n",
      "131  :  teguise  data downloaded. progress: 131 / 582\n",
      "132  :  bathsheba  data downloaded. progress: 132 / 582\n",
      "133  :  plettenberg bay  data downloaded. progress: 133 / 582\n",
      "134  :  devils lake  data downloaded. progress: 134 / 582\n",
      "135  :  yoichi  data downloaded. progress: 135 / 582\n",
      "136  :  buin  data downloaded. progress: 136 / 582\n",
      "137  :  padang  data downloaded. progress: 137 / 582\n",
      "138  :  port hedland  data downloaded. progress: 138 / 582\n",
      "139  :  hobart  data downloaded. progress: 139 / 582\n",
      "140  :  arlit  data downloaded. progress: 140 / 582\n",
      "141  :  amderma  data downloaded. progress: 141 / 582\n",
      "142  :  grand river south east  data downloaded. progress: 142 / 582\n",
      "143  :  gobabis  data downloaded. progress: 143 / 582\n",
      "144  :  vila franca do campo  data downloaded. progress: 144 / 582\n",
      "145  :  rundu  data downloaded. progress: 145 / 582\n",
      "146  :  nuevo progreso  data downloaded. progress: 146 / 582\n",
      "147  :  jamestown  data downloaded. progress: 147 / 582\n",
      "148  :  chuy  data downloaded. progress: 148 / 582\n",
      "149  :  havelock  data downloaded. progress: 149 / 582\n",
      "150  :  saskylakh  data downloaded. progress: 150 / 582\n",
      "151  :  kaitangata  data downloaded. progress: 151 / 582\n",
      "152  :  finnsnes  data downloaded. progress: 152 / 582\n",
      "153  :  buraydah  data downloaded. progress: 153 / 582\n",
      "154  :  guiratinga  data downloaded. progress: 154 / 582\n",
      "155  :  cape town  data downloaded. progress: 155 / 582\n",
      "156  :  viedma  data downloaded. progress: 156 / 582\n",
      "157  :  cap malheureux  data downloaded. progress: 157 / 582\n",
      "158  :  lentini  data downloaded. progress: 158 / 582\n",
      "159  :  belushya guba  data downloaded. progress: 159 / 582\n",
      "160  :  henties bay  data downloaded. progress: 160 / 582\n",
      "161  :  cairns  data downloaded. progress: 161 / 582\n",
      "162  :  chagda  data downloaded. progress: 162 / 582\n",
      "163  :  yerbogachen  data downloaded. progress: 163 / 582\n",
      "164  :  masindi  data downloaded. progress: 164 / 582\n",
      "165  :  alice springs  data downloaded. progress: 165 / 582\n",
      "166  :  slave lake  data downloaded. progress: 166 / 582\n",
      "167  :  vanimo  data downloaded. progress: 167 / 582\n",
      "168  :  port blair  data downloaded. progress: 168 / 582\n",
      "169  :  kovdor  data downloaded. progress: 169 / 582\n",
      "170  :  gilgit  data downloaded. progress: 170 / 582\n",
      "171  :  butaritari  data downloaded. progress: 171 / 582\n",
      "172  :  pavlikeni  data downloaded. progress: 172 / 582\n",
      "173  :  ilulissat  data downloaded. progress: 173 / 582\n",
      "174  :  yulara  data downloaded. progress: 174 / 582\n",
      "175  :  vallenar  data downloaded. progress: 175 / 582\n",
      "176  :  ladario  data downloaded. progress: 176 / 582\n",
      "177  :  taltal  data downloaded. progress: 177 / 582\n",
      "178  :  necochea  data downloaded. progress: 178 / 582\n",
      "179  :  xian  data downloaded. progress: 179 / 582\n",
      "180  :  mogzon  data downloaded. progress: 180 / 582\n",
      "181  :  keller  data downloaded. progress: 181 / 582\n",
      "182  :  juneau  data downloaded. progress: 182 / 582\n",
      "183  :  thunder bay  data downloaded. progress: 183 / 582\n",
      "184  :  vardo  data downloaded. progress: 184 / 582\n",
      "185  :  prince rupert  data downloaded. progress: 185 / 582\n",
      "186  :  zhanatas  data downloaded. progress: 186 / 582\n",
      "187  :  portlethen  data downloaded. progress: 187 / 582\n",
      "188  :  martapura  data downloaded. progress: 188 / 582\n",
      "189  :  kavaratti  data downloaded. progress: 189 / 582\n",
      "190  :  salalah  data downloaded. progress: 190 / 582\n",
      "191  :  bilibino  data downloaded. progress: 191 / 582\n",
      "192  :  mount isa  data downloaded. progress: 192 / 582\n",
      "193  :  lardos  data downloaded. progress: 193 / 582\n",
      "194  :  san policarpo  data downloaded. progress: 194 / 582\n",
      "195  :  cartagena  data downloaded. progress: 195 / 582\n",
      "196  :  santiago  data downloaded. progress: 196 / 582\n",
      "197  :  vagamo  data downloaded. progress: 197 / 582\n",
      "198  :  chimbote  data downloaded. progress: 198 / 582\n",
      "199  :  geraldton  data downloaded. progress: 199 / 582\n",
      "200  :  marawi  data downloaded. progress: 200 / 582\n",
      "201  :  port augusta  data downloaded. progress: 201 / 582\n",
      "202  :  evensk  data downloaded. progress: 202 / 582\n",
      "203  :  salinopolis  data downloaded. progress: 203 / 582\n",
      "204  :  yar-sale  data downloaded. progress: 204 / 582\n",
      "205  :  kenai  data downloaded. progress: 205 / 582\n",
      "206  :  kungurtug  data downloaded. progress: 206 / 582\n",
      "207  :  berlevag  data downloaded. progress: 207 / 582\n",
      "208  :  yinchuan  data downloaded. progress: 208 / 582\n",
      "209  :  tuatapere  data downloaded. progress: 209 / 582\n",
      "210  :  bilma  data downloaded. progress: 210 / 582\n",
      "211  :  beringovskiy  data downloaded. progress: 211 / 582\n",
      "212  :  mehamn  data downloaded. progress: 212 / 582\n",
      "213  :  vaini  data downloaded. progress: 213 / 582\n",
      "214  :  broome  data downloaded. progress: 214 / 582\n",
      "215  :  kismayo  data downloaded. progress: 215 / 582\n",
      "216  :  saldanha  data downloaded. progress: 216 / 582\n",
      "217  :  mahon  data downloaded. progress: 217 / 582\n",
      "218  :  svetlaya  data downloaded. progress: 218 / 582\n",
      "219  :  algiers  data downloaded. progress: 219 / 582\n",
      "220  :  aklavik  data downloaded. progress: 220 / 582\n",
      "221  :  mount pleasant  data downloaded. progress: 221 / 582\n",
      "222  :  clyde river  data downloaded. progress: 222 / 582\n",
      "223  :  faya  data downloaded. progress: 223 / 582\n",
      "224  :  alofi  data downloaded. progress: 224 / 582\n",
      "225  :  tura  data downloaded. progress: 225 / 582\n",
      "226  :  ostersund  data downloaded. progress: 226 / 582\n",
      "227  :  tobol  data downloaded. progress: 227 / 582\n",
      "228  :  airai  data downloaded. progress: 228 / 582\n",
      "229  :  husavik  data downloaded. progress: 229 / 582\n",
      "230  :  bredasdorp  data downloaded. progress: 230 / 582\n",
      "231  :  shimoda  data downloaded. progress: 231 / 582\n",
      "232  :  garwa  data downloaded. progress: 232 / 582\n",
      "233  :  adrar  data downloaded. progress: 233 / 582\n",
      "234  :  touros  data downloaded. progress: 234 / 582\n",
      "235  :  bardiyah  data downloaded. progress: 235 / 582\n",
      "236  :  mys shmidta  data downloaded. progress: 236 / 582\n",
      "237  :  trinidad  data downloaded. progress: 237 / 582\n",
      "238  :  east london  data downloaded. progress: 238 / 582\n",
      "239  :  iqaluit  data downloaded. progress: 239 / 582\n",
      "240  :  ayame  data downloaded. progress: 240 / 582\n",
      "241  :  bolungarvik  data downloaded. progress: 241 / 582\n",
      "242  :  luderitz  data downloaded. progress: 242 / 582\n",
      "243  :  la ronge  data downloaded. progress: 243 / 582\n",
      "244  :  sinazongwe  data downloaded. progress: 244 / 582\n",
      "245  :  labuhan  data downloaded. progress: 245 / 582\n",
      "246  :  marcona  data downloaded. progress: 246 / 582\n",
      "247  :  louga  data downloaded. progress: 247 / 582\n",
      "248  :  bambous virieux  data downloaded. progress: 248 / 582\n",
      "249  :  poso  data downloaded. progress: 249 / 582\n",
      "250  :  tasiilaq  data downloaded. progress: 250 / 582\n",
      "251  :  tiksi  data downloaded. progress: 251 / 582\n",
      "252  :  tandil  data downloaded. progress: 252 / 582\n",
      "253  :  hami  data downloaded. progress: 253 / 582\n",
      "254  :  nuuk  data downloaded. progress: 254 / 582\n",
      "255  :  pangody  data downloaded. progress: 255 / 582\n",
      "256  :  bonthe  data downloaded. progress: 256 / 582\n",
      "257  :  umm lajj  data downloaded. progress: 257 / 582\n",
      "258  :  mananjary  data downloaded. progress: 258 / 582\n",
      "259  :  bereda  data downloaded. progress: 259 / 582\n",
      "260  :  codrington  data downloaded. progress: 260 / 582\n",
      "261  :  ahipara  data downloaded. progress: 261 / 582\n",
      "262  :  san rafael del sur  data downloaded. progress: 262 / 582\n",
      "263  :  weinan  data downloaded. progress: 263 / 582\n",
      "264  :  limbang  data downloaded. progress: 264 / 582\n",
      "265  :  coihueco  data downloaded. progress: 265 / 582\n",
      "266  :  severo-yeniseyskiy  data downloaded. progress: 266 / 582\n",
      "267  :  sorong  data downloaded. progress: 267 / 582\n",
      "268  :  hihifo  data downloaded. progress: 268 / 582\n",
      "269  :  soyaux  data downloaded. progress: 269 / 582\n",
      "270  :  pangai  data downloaded. progress: 270 / 582\n",
      "271  :  xingyi  data downloaded. progress: 271 / 582\n",
      "272  :  christchurch  data downloaded. progress: 272 / 582\n",
      "273  :  whyalla  data downloaded. progress: 273 / 582\n",
      "274  :  sergach  data downloaded. progress: 274 / 582\n",
      "275  :  vao  data downloaded. progress: 275 / 582\n",
      "276  :  strezhevoy  data downloaded. progress: 276 / 582\n",
      "277  :  jalu  data downloaded. progress: 277 / 582\n",
      "278  :  tazovskiy  data downloaded. progress: 278 / 582\n",
      "279  :  gorontalo  data downloaded. progress: 279 / 582\n",
      "280  :  hamilton  data downloaded. progress: 280 / 582\n",
      "281  :  teluknaga  data downloaded. progress: 281 / 582\n",
      "282  :  solnechnyy  data downloaded. progress: 282 / 582\n",
      "283  :  cockburn harbour  data downloaded. progress: 283 / 582\n",
      "284  :  xichang  data downloaded. progress: 284 / 582\n",
      "285  :  owase  data downloaded. progress: 285 / 582\n",
      "286  :  manzhouli  data downloaded. progress: 286 / 582\n",
      "287  :  akyab  data downloaded. progress: 287 / 582\n",
      "288  :  gamba  data downloaded. progress: 288 / 582\n",
      "289  :  rabo de peixe  data downloaded. progress: 289 / 582\n",
      "290  :  sola  data downloaded. progress: 290 / 582\n",
      "291  :  katobu  data downloaded. progress: 291 / 582\n",
      "292  :  buchen  data downloaded. progress: 292 / 582\n",
      "293  :  placido de castro  data downloaded. progress: 293 / 582\n",
      "294  :  impfondo  data downloaded. progress: 294 / 582\n",
      "295  :  palmares do sul  data downloaded. progress: 295 / 582\n",
      "296  :  kumluca  data downloaded. progress: 296 / 582\n",
      "297  :  ruteng  data downloaded. progress: 297 / 582\n",
      "298  :  ponta do sol  data downloaded. progress: 298 / 582\n",
      "299  :  gloversville  data downloaded. progress: 299 / 582\n",
      "300  :  praia  data downloaded. progress: 300 / 582\n",
      "301  :  anzio  data downloaded. progress: 301 / 582\n",
      "302  :  smolensk  data downloaded. progress: 302 / 582\n",
      "303  :  general pico  data downloaded. progress: 303 / 582\n",
      "304  :  byron bay  data downloaded. progress: 304 / 582\n",
      "305  :  koutsouras  data downloaded. progress: 305 / 582\n",
      "306  :  payo  data downloaded. progress: 306 / 582\n",
      "307  :  provideniya  data downloaded. progress: 307 / 582\n",
      "308  :  channel-port aux basques  data downloaded. progress: 308 / 582\n",
      "309  :  kieta  data downloaded. progress: 309 / 582\n",
      "310  :  cherskiy  data downloaded. progress: 310 / 582\n",
      "311  :  nikolskoye  data downloaded. progress: 311 / 582\n",
      "312  :  puerto maldonado  data downloaded. progress: 312 / 582\n",
      "313  :  anadyr  data downloaded. progress: 313 / 582\n",
      "314  :  isla mujeres  data downloaded. progress: 314 / 582\n",
      "315  :  santa quiteria  data downloaded. progress: 315 / 582\n",
      "316  :  mosquera  data downloaded. progress: 316 / 582\n",
      "317  :  canaries  data downloaded. progress: 317 / 582\n",
      "318  :  kirakira  data downloaded. progress: 318 / 582\n",
      "319  :  katsuura  data downloaded. progress: 319 / 582\n",
      "320  :  lukang  data downloaded. progress: 320 / 582\n",
      "321  :  mayo  data downloaded. progress: 321 / 582\n",
      "322  :  lebu  data downloaded. progress: 322 / 582\n",
      "323  :  volkermarkt  data downloaded. progress: 323 / 582\n",
      "324  :  porbandar  data downloaded. progress: 324 / 582\n",
      "325  :  saint-joseph  data downloaded. progress: 325 / 582\n",
      "326  :  tabou  data downloaded. progress: 326 / 582\n",
      "327  :  krasnoye  data downloaded. progress: 327 / 582\n",
      "328  :  port lincoln  data downloaded. progress: 328 / 582\n",
      "329  :  quthing  data downloaded. progress: 329 / 582\n",
      "330  :  swan river  data downloaded. progress: 330 / 582\n",
      "331  :  konstantinovka  data downloaded. progress: 331 / 582\n",
      "332  :  san cristobal  data downloaded. progress: 332 / 582\n",
      "333  :  pa daet  data downloaded. progress: 333 / 582\n",
      "334  :  kailua  data downloaded. progress: 334 / 582\n",
      "335  :  ulladulla  data downloaded. progress: 335 / 582\n",
      "336  :  salas  data downloaded. progress: 336 / 582\n",
      "337  :  marsa matruh  data downloaded. progress: 337 / 582\n",
      "338  :  avera  data downloaded. progress: 338 / 582\n",
      "339  :  pathein  data downloaded. progress: 339 / 582\n",
      "340  :  kidal  data downloaded. progress: 340 / 582\n",
      "341  :  alma  data downloaded. progress: 341 / 582\n",
      "342  :  ostrovnoy  data downloaded. progress: 342 / 582\n",
      "343  :  champerico  data downloaded. progress: 343 / 582\n",
      "344  :  andapa  data downloaded. progress: 344 / 582\n",
      "345  :  dickson  data downloaded. progress: 345 / 582\n",
      "346  :  sentyabrskiy  data downloaded. progress: 346 / 582\n",
      "347  :  bubaque  data downloaded. progress: 347 / 582\n",
      "348  :  nilanga  data downloaded. progress: 348 / 582\n",
      "349  :  novyy urgal  data downloaded. progress: 349 / 582\n",
      "350  :  coihaique  data downloaded. progress: 350 / 582\n",
      "351  :  sovetskiy  data downloaded. progress: 351 / 582\n",
      "352  :  guaruja  data downloaded. progress: 352 / 582\n",
      "353  :  san benito abad  data downloaded. progress: 353 / 582\n",
      "354  :  xadani  data downloaded. progress: 354 / 582\n",
      "355  :  juifang  data downloaded. progress: 355 / 582\n",
      "356  :  kuala pilah  data downloaded. progress: 356 / 582\n",
      "357  :  mizdah  data downloaded. progress: 357 / 582\n",
      "358  :  haines junction  data downloaded. progress: 358 / 582\n",
      "359  :  hualmay  data downloaded. progress: 359 / 582\n",
      "360  :  cayenne  data downloaded. progress: 360 / 582\n",
      "361  :  saint-philippe  data downloaded. progress: 361 / 582\n",
      "362  :  itarema  data downloaded. progress: 362 / 582\n",
      "363  :  ust-koksa  data downloaded. progress: 363 / 582\n",
      "364  :  tabiauea  data downloaded. progress: 364 / 582\n",
      "365  :  lemesos  data downloaded. progress: 365 / 582\n",
      "366  :  orlik  data downloaded. progress: 366 / 582\n",
      "367  :  hazorasp  data downloaded. progress: 367 / 582\n",
      "368  :  sioux lookout  data downloaded. progress: 368 / 582\n",
      "369  :  yanan  data downloaded. progress: 369 / 582\n",
      "370  :  hofn  data downloaded. progress: 370 / 582\n",
      "371  :  makakilo city  data downloaded. progress: 371 / 582\n",
      "372  :  kiama  data downloaded. progress: 372 / 582\n",
      "373  :  kaeo  data downloaded. progress: 373 / 582\n",
      "374  :  valparaiso  data downloaded. progress: 374 / 582\n",
      "375  :  lobva  data downloaded. progress: 375 / 582\n",
      "376  :  merauke  data downloaded. progress: 376 / 582\n",
      "377  :  krasnoselkup  data downloaded. progress: 377 / 582\n",
      "378  :  lazaro cardenas  data downloaded. progress: 378 / 582\n",
      "379  :  narsaq  data downloaded. progress: 379 / 582\n",
      "380  :  pucallpa  data downloaded. progress: 380 / 582\n",
      "381  :  otane  data downloaded. progress: 381 / 582\n",
      "382  :  camacha  data downloaded. progress: 382 / 582\n",
      "383  :  barbar  data downloaded. progress: 383 / 582\n",
      "384  :  crixas  data downloaded. progress: 384 / 582\n",
      "385  :  salta  data downloaded. progress: 385 / 582\n",
      "386  :  pilao arcado  data downloaded. progress: 386 / 582\n",
      "387  :  iskateley  data downloaded. progress: 387 / 582\n",
      "388  :  mokobeng  data downloaded. progress: 388 / 582\n",
      "389  :  rocha  data downloaded. progress: 389 / 582\n",
      "390  :  waw  data downloaded. progress: 390 / 582\n",
      "391  :  fare  data downloaded. progress: 391 / 582\n",
      "392  :  panguna  data downloaded. progress: 392 / 582\n",
      "393  :  cordoba  data downloaded. progress: 393 / 582\n",
      "394  :  nogliki  data downloaded. progress: 394 / 582\n",
      "395  :  huron  data downloaded. progress: 395 / 582\n",
      "396  :  padina  data downloaded. progress: 396 / 582\n",
      "397  :  orzhytsya  data downloaded. progress: 397 / 582\n",
      "398  :  nouadhibou  data downloaded. progress: 398 / 582\n",
      "399  :  wattegama  data downloaded. progress: 399 / 582\n",
      "400  :  stadtlohn  data downloaded. progress: 400 / 582\n",
      "401  :  beaumont  data downloaded. progress: 401 / 582\n",
      "402  :  caravelas  data downloaded. progress: 402 / 582\n",
      "403  :  manhattan  data downloaded. progress: 403 / 582\n",
      "404  :  rajmahal  data downloaded. progress: 404 / 582\n",
      "405  :  bontang  data downloaded. progress: 405 / 582\n",
      "406  :  lata  data downloaded. progress: 406 / 582\n",
      "407  :  rwamagana  data downloaded. progress: 407 / 582\n",
      "408  :  zaria  data downloaded. progress: 408 / 582\n",
      "409  :  tamworth  data downloaded. progress: 409 / 582\n",
      "410  :  palabuhanratu  data downloaded. progress: 410 / 582\n",
      "411  :  kuche  data downloaded. progress: 411 / 582\n",
      "412  :  nampula  data downloaded. progress: 412 / 582\n",
      "413  :  lasem  data downloaded. progress: 413 / 582\n",
      "414  :  barroso  data downloaded. progress: 414 / 582\n",
      "415  :  galveston  data downloaded. progress: 415 / 582\n",
      "416  :  mandalgovi  data downloaded. progress: 416 / 582\n",
      "417  :  leningradskiy  data downloaded. progress: 417 / 582\n",
      "418  :  joshimath  data downloaded. progress: 418 / 582\n",
      "419  :  charters towers  data downloaded. progress: 419 / 582\n",
      "420  :  ambodifototra  data downloaded. progress: 420 / 582\n",
      "421  :  west wendover  data downloaded. progress: 421 / 582\n",
      "422  :  borogontsy  data downloaded. progress: 422 / 582\n",
      "423  :  bac lieu  data downloaded. progress: 423 / 582\n",
      "424  :  flinders  data downloaded. progress: 424 / 582\n",
      "425  :  ancud  data downloaded. progress: 425 / 582\n",
      "426  :  isangel  data downloaded. progress: 426 / 582\n",
      "427  :  anar darreh  data downloaded. progress: 427 / 582\n",
      "428  :  camabatela  data downloaded. progress: 428 / 582\n",
      "429  :  panjakent  data downloaded. progress: 429 / 582\n",
      "430  :  mashhad  data downloaded. progress: 430 / 582\n",
      "431  :  dzhusaly  data downloaded. progress: 431 / 582\n",
      "432  :  abnub  data downloaded. progress: 432 / 582\n",
      "433  :  sorvag  data downloaded. progress: 433 / 582\n",
      "434  :  bambanglipuro  data downloaded. progress: 434 / 582\n",
      "435  :  salisbury  data downloaded. progress: 435 / 582\n",
      "436  :  fort nelson  data downloaded. progress: 436 / 582\n",
      "437  :  samarai  data downloaded. progress: 437 / 582\n",
      "438  :  pisco  data downloaded. progress: 438 / 582\n",
      "439  :  bure  data downloaded. progress: 439 / 582\n",
      "440  :  tomatlan  data downloaded. progress: 440 / 582\n",
      "441  :  the valley  data downloaded. progress: 441 / 582\n",
      "442  :  kaz  data downloaded. progress: 442 / 582\n",
      "443  :  linchuan  data downloaded. progress: 443 / 582\n",
      "444  :  zhezkazgan  data downloaded. progress: 444 / 582\n",
      "445  :  vestmannaeyjar  data downloaded. progress: 445 / 582\n",
      "446  :  novo aripuana  data downloaded. progress: 446 / 582\n",
      "447  :  bakhtiyarpur  data downloaded. progress: 447 / 582\n",
      "448  :  aasiaat  data downloaded. progress: 448 / 582\n",
      "449  :  lanzhou  data downloaded. progress: 449 / 582\n",
      "450  :  imeni poliny osipenko  data downloaded. progress: 450 / 582\n",
      "451  :  souillac  data downloaded. progress: 451 / 582\n",
      "452  :  sobolevo  data downloaded. progress: 452 / 582\n",
      "453  :  sao miguel do araguaia  data downloaded. progress: 453 / 582\n",
      "454  :  ust-kuyga  data downloaded. progress: 454 / 582\n",
      "455  :  flin flon  data downloaded. progress: 455 / 582\n",
      "456  :  westport  data downloaded. progress: 456 / 582\n",
      "457  :  gat  data downloaded. progress: 457 / 582\n",
      "458  :  nguru  data downloaded. progress: 458 / 582\n",
      "459  :  andenes  data downloaded. progress: 459 / 582\n",
      "460  :  khonuu  data downloaded. progress: 460 / 582\n",
      "461  :  ingham  data downloaded. progress: 461 / 582\n",
      "462  :  santa cruz  data downloaded. progress: 462 / 582\n",
      "463  :  warmbad  data downloaded. progress: 463 / 582\n",
      "464  :  camacupa  data downloaded. progress: 464 / 582\n",
      "465  :  san vicente  data downloaded. progress: 465 / 582\n",
      "466  :  mazagao  data downloaded. progress: 466 / 582\n",
      "467  :  nizhniy kuranakh  data downloaded. progress: 467 / 582\n",
      "468  :  nizwa  data downloaded. progress: 468 / 582\n",
      "469  :  raudeberg  data downloaded. progress: 469 / 582\n",
      "470  :  ossora  data downloaded. progress: 470 / 582\n",
      "471  :  bureya  data downloaded. progress: 471 / 582\n",
      "472  :  vaitupu  data downloaded. progress: 472 / 582\n",
      "473  :  tsienyane  data downloaded. progress: 473 / 582\n",
      "474  :  maua  data downloaded. progress: 474 / 582\n",
      "475  :  petropavlovsk-kamchatskiy  data downloaded. progress: 475 / 582\n",
      "476  :  grand centre  data downloaded. progress: 476 / 582\n",
      "477  :  samusu  data downloaded. progress: 477 / 582\n",
      "478  :  beder  data downloaded. progress: 478 / 582\n",
      "479  :  rio gallegos  data downloaded. progress: 479 / 582\n",
      "480  :  clarence town  data downloaded. progress: 480 / 582\n",
      "481  :  korla  data downloaded. progress: 481 / 582\n",
      "482  :  san-pedro  data downloaded. progress: 482 / 582\n",
      "483  :  te anau  data downloaded. progress: 483 / 582\n",
      "484  :  saint-francois  data downloaded. progress: 484 / 582\n",
      "485  :  darnah  data downloaded. progress: 485 / 582\n",
      "486  :  emirdag  data downloaded. progress: 486 / 582\n",
      "487  :  rapid valley  data downloaded. progress: 487 / 582\n",
      "488  :  adre  data downloaded. progress: 488 / 582\n",
      "489  :  coahuayana  data downloaded. progress: 489 / 582\n",
      "490  :  xai-xai  data downloaded. progress: 490 / 582\n",
      "491  :  sisophon  data downloaded. progress: 491 / 582\n",
      "492  :  sucua  data downloaded. progress: 492 / 582\n",
      "493  :  kamenskoye  data downloaded. progress: 493 / 582\n",
      "494  :  bogorodskoye  data downloaded. progress: 494 / 582\n",
      "495  :  portales  data downloaded. progress: 495 / 582\n",
      "496  :  san sebastian  data downloaded. progress: 496 / 582\n",
      "497  :  pacific grove  data downloaded. progress: 497 / 582\n",
      "498  :  havoysund  data downloaded. progress: 498 / 582\n",
      "499  :  chalus  data downloaded. progress: 499 / 582\n",
      "500  :  seminole  data downloaded. progress: 500 / 582\n",
      "501  :  meiganga  data downloaded. progress: 501 / 582\n",
      "502  :  lavrentiya  data downloaded. progress: 502 / 582\n",
      "503  :  lima  data downloaded. progress: 503 / 582\n",
      "504  :  ust-tsilma  data downloaded. progress: 504 / 582\n",
      "505  :  babstovo  data downloaded. progress: 505 / 582\n",
      "506  :  biak  data downloaded. progress: 506 / 582\n",
      "507  :  ishigaki  data downloaded. progress: 507 / 582\n",
      "508  :  hoorn  data downloaded. progress: 508 / 582\n",
      "509  :  liuzhou  data downloaded. progress: 509 / 582\n",
      "510  :  taywarah  data downloaded. progress: 510 / 582\n",
      "511  :  batagay-alyta  data downloaded. progress: 511 / 582\n",
      "512  :  havre-saint-pierre  data downloaded. progress: 512 / 582\n",
      "513  :  namatanai  data downloaded. progress: 513 / 582\n",
      "514  :  aljezur  data downloaded. progress: 514 / 582\n",
      "515  :  yanam  data downloaded. progress: 515 / 582\n",
      "516  :  mandurah  data downloaded. progress: 516 / 582\n",
      "517  :  erzin  data downloaded. progress: 517 / 582\n",
      "518  :  diglur  data downloaded. progress: 518 / 582\n",
      "519  :  roseburg  data downloaded. progress: 519 / 582\n",
      "520  :  gangotri  data downloaded. progress: 520 / 582\n",
      "521  :  sao desiderio  data downloaded. progress: 521 / 582\n",
      "522  :  kahului  data downloaded. progress: 522 / 582\n",
      "523  :  port-cartier  data downloaded. progress: 523 / 582\n",
      "524  :  nemuro  data downloaded. progress: 524 / 582\n",
      "525  :  sao joao da barra  data downloaded. progress: 525 / 582\n",
      "526  :  margate  data downloaded. progress: 526 / 582\n",
      "527  :  dawei  data downloaded. progress: 527 / 582\n",
      "528  :  lugovskiy  data downloaded. progress: 528 / 582\n",
      "529  :  hay river  data downloaded. progress: 529 / 582\n",
      "530  :  komsomolskiy  data downloaded. progress: 530 / 582\n",
      "531  :  along  data downloaded. progress: 531 / 582\n",
      "532  :  galiwinku  data downloaded. progress: 532 / 582\n",
      "533  :  fortuna  data downloaded. progress: 533 / 582\n",
      "534  :  dianopolis  data downloaded. progress: 534 / 582\n",
      "535  :  barra patuca  data downloaded. progress: 535 / 582\n",
      "536  :  chiang khong  data downloaded. progress: 536 / 582\n",
      "537  :  gorele  data downloaded. progress: 537 / 582\n",
      "538  :  creston  data downloaded. progress: 538 / 582\n",
      "539  :  jiaojiang  data downloaded. progress: 539 / 582\n",
      "540  :  eureka  data downloaded. progress: 540 / 582\n",
      "541  :  bowen  data downloaded. progress: 541 / 582\n",
      "542  :  hasaki  data downloaded. progress: 542 / 582\n",
      "543  :  hailey  data downloaded. progress: 543 / 582\n",
      "544  :  xixiang  data downloaded. progress: 544 / 582\n",
      "545  :  ahuimanu  data downloaded. progress: 545 / 582\n",
      "546  :  kadipaten  data downloaded. progress: 546 / 582\n",
      "547  :  jijiga  data downloaded. progress: 547 / 582\n",
      "548  :  saint-gabriel  data downloaded. progress: 548 / 582\n",
      "549  :  fujin  data downloaded. progress: 549 / 582\n",
      "550  :  kursenai  data downloaded. progress: 550 / 582\n",
      "551  :  port ellen  data downloaded. progress: 551 / 582\n",
      "552  :  mattru  data downloaded. progress: 552 / 582\n",
      "553  :  luena  data downloaded. progress: 553 / 582\n",
      "554  :  magistralnyy  data downloaded. progress: 554 / 582\n",
      "555  :  darhan  data downloaded. progress: 555 / 582\n",
      "556  :  cascais  data downloaded. progress: 556 / 582\n",
      "557  :  gonbad-e qabus  data downloaded. progress: 557 / 582\n",
      "558  :  tchollire  data downloaded. progress: 558 / 582\n",
      "559  :  biloela  data downloaded. progress: 559 / 582\n",
      "560  :  siderno  data downloaded. progress: 560 / 582\n",
      "561  :  agarakadzor  data downloaded. progress: 561 / 582\n",
      "562  :  onguday  data downloaded. progress: 562 / 582\n",
      "563  :  wick  data downloaded. progress: 563 / 582\n",
      "564  :  bud  data downloaded. progress: 564 / 582\n",
      "565  :  moose factory  data downloaded. progress: 565 / 582\n",
      "566  :  san  data downloaded. progress: 566 / 582\n",
      "567  :  ponta delgada  data downloaded. progress: 567 / 582\n",
      "568  :  tiznit  data downloaded. progress: 568 / 582\n",
      "569  :  atambua  data downloaded. progress: 569 / 582\n",
      "570  :  lompoc  data downloaded. progress: 570 / 582\n",
      "571  :  port hardy  data downloaded. progress: 571 / 582\n",
      "572  :  artyshta  data downloaded. progress: 572 / 582\n",
      "573  :  arman  data downloaded. progress: 573 / 582\n",
      "574  :  inirida  data downloaded. progress: 574 / 582\n",
      "575  :  luwuk  data downloaded. progress: 575 / 582\n",
      "576  :  dera din panah  data downloaded. progress: 576 / 582\n",
      "577  :  luganville  data downloaded. progress: 577 / 582\n",
      "578  :  caceres  data downloaded. progress: 578 / 582\n",
      "579  :  morro bay  data downloaded. progress: 579 / 582\n",
      "580  :  nisia floresta  data downloaded. progress: 580 / 582\n",
      "581  :  mayumba  data downloaded. progress: 581 / 582\n",
      "582  :  urumqi  data downloaded. progress: 582 / 582\n"
     ]
    }
   ],
   "source": [
    "# Call Each City's Weather Data and store everything into a dictionary\n",
    "\n",
    "city_weather_data = {}\n",
    "\n",
    "city_num = 0\n",
    "\n",
    "for city in range(0, total_num_cities):\n",
    "    \n",
    "    city_name = cities[city]\n",
    "    response  = requests.get(query_url + city_name).json()\n",
    "    city_weather_data[city_name] = response\n",
    "    \n",
    "    print(city + 1, ' : ', city_name, ' data downloaded.', 'progress:', (city + 1), '/', total_num_cities)\n",
    "    \n",
    "\n",
    "    "
   ]
  },
  {
   "cell_type": "markdown",
   "metadata": {},
   "source": [
    "### Convert Raw Data to DataFrame\n",
    "* Export the city data into a .csv.\n",
    "* Display the DataFrame"
   ]
  },
  {
   "cell_type": "code",
   "execution_count": 5,
   "metadata": {},
   "outputs": [],
   "source": [
    "# Save downloaded weather data as a txt file\n",
    "with open('city_weather_data.txt', 'w') as file:\n",
    "     file.write(json.dumps(city_weather_data))"
   ]
  },
  {
   "cell_type": "code",
   "execution_count": 17,
   "metadata": {},
   "outputs": [],
   "source": [
    "# Compile data needed\n",
    "good_city = [] # List of city with data\n",
    "bad_city  = [] # List of city without data \n",
    "iso   = [] # CountryISO\n",
    "lat   = [] # Latitude\n",
    "lon   = [] # longitude\n",
    "temp  = [] # Temperature\n",
    "humi  = [] # Humidity\n",
    "cloud = [] # Cloudiness\n",
    "wind  = [] # Wind Speed"
   ]
  },
  {
   "cell_type": "code",
   "execution_count": 18,
   "metadata": {},
   "outputs": [
    {
     "name": "stdout",
     "output_type": "stream",
     "text": [
      "sindand  404 error. city not found.\n",
      "sinkat  404 error. city not found.\n",
      "barentsburg  404 error. city not found.\n",
      "illoqqortoormiut  404 error. city not found.\n",
      "saleaula  404 error. city not found.\n",
      "tsihombe  404 error. city not found.\n",
      "wolmaranstad  404 error. city not found.\n",
      "tumannyy  404 error. city not found.\n",
      "taolanaro  404 error. city not found.\n",
      "ksenyevka  404 error. city not found.\n",
      "amderma  404 error. city not found.\n",
      "grand river south east  404 error. city not found.\n",
      "belushya guba  404 error. city not found.\n",
      "chagda  404 error. city not found.\n",
      "zhanatas  404 error. city not found.\n",
      "mys shmidta  404 error. city not found.\n",
      "bolungarvik  404 error. city not found.\n",
      "marcona  404 error. city not found.\n",
      "hihifo  404 error. city not found.\n",
      "cockburn harbour  404 error. city not found.\n",
      "volkermarkt  404 error. city not found.\n",
      "sentyabrskiy  404 error. city not found.\n",
      "xadani  404 error. city not found.\n",
      "juifang  404 error. city not found.\n",
      "tabiauea  404 error. city not found.\n",
      "lemesos  404 error. city not found.\n",
      "yanan  404 error. city not found.\n",
      "barbar  404 error. city not found.\n",
      "pilao arcado  404 error. city not found.\n",
      "palabuhanratu  404 error. city not found.\n",
      "kuche  404 error. city not found.\n",
      "ambodifototra  404 error. city not found.\n",
      "anar darreh  404 error. city not found.\n",
      "dzhusaly  404 error. city not found.\n",
      "sorvag  404 error. city not found.\n",
      "linchuan  404 error. city not found.\n",
      "khonuu  404 error. city not found.\n",
      "vaitupu  404 error. city not found.\n",
      "tsienyane  404 error. city not found.\n",
      "grand centre  404 error. city not found.\n",
      "samusu  404 error. city not found.\n",
      "kamenskoye  404 error. city not found.\n",
      "gangotri  404 error. city not found.\n",
      "lugovskiy  404 error. city not found.\n",
      "galiwinku  404 error. city not found.\n",
      "dianopolis  404 error. city not found.\n",
      "port ellen  404 error. city not found.\n",
      "dera din panah  404 error. city not found.\n"
     ]
    },
    {
     "data": {
      "text/html": [
       "<div>\n",
       "<style scoped>\n",
       "    .dataframe tbody tr th:only-of-type {\n",
       "        vertical-align: middle;\n",
       "    }\n",
       "\n",
       "    .dataframe tbody tr th {\n",
       "        vertical-align: top;\n",
       "    }\n",
       "\n",
       "    .dataframe thead th {\n",
       "        text-align: right;\n",
       "    }\n",
       "</style>\n",
       "<table border=\"1\" class=\"dataframe\">\n",
       "  <thead>\n",
       "    <tr style=\"text-align: right;\">\n",
       "      <th></th>\n",
       "      <th>city</th>\n",
       "      <th>country</th>\n",
       "      <th>latitude</th>\n",
       "      <th>longitude</th>\n",
       "      <th>temperature</th>\n",
       "      <th>humidity</th>\n",
       "      <th>cloudiness</th>\n",
       "      <th>windspeed</th>\n",
       "    </tr>\n",
       "  </thead>\n",
       "  <tbody>\n",
       "    <tr>\n",
       "      <th>0</th>\n",
       "      <td>talnakh</td>\n",
       "      <td>RU</td>\n",
       "      <td>69.49</td>\n",
       "      <td>88.40</td>\n",
       "      <td>14.00</td>\n",
       "      <td>92</td>\n",
       "      <td>66</td>\n",
       "      <td>4.47</td>\n",
       "    </tr>\n",
       "    <tr>\n",
       "      <th>1</th>\n",
       "      <td>pangnirtung</td>\n",
       "      <td>CA</td>\n",
       "      <td>66.15</td>\n",
       "      <td>-65.71</td>\n",
       "      <td>27.30</td>\n",
       "      <td>91</td>\n",
       "      <td>100</td>\n",
       "      <td>6.38</td>\n",
       "    </tr>\n",
       "    <tr>\n",
       "      <th>2</th>\n",
       "      <td>mataura</td>\n",
       "      <td>NZ</td>\n",
       "      <td>-46.19</td>\n",
       "      <td>168.86</td>\n",
       "      <td>46.99</td>\n",
       "      <td>89</td>\n",
       "      <td>100</td>\n",
       "      <td>14.00</td>\n",
       "    </tr>\n",
       "    <tr>\n",
       "      <th>3</th>\n",
       "      <td>hilo</td>\n",
       "      <td>US</td>\n",
       "      <td>19.73</td>\n",
       "      <td>-155.09</td>\n",
       "      <td>63.70</td>\n",
       "      <td>73</td>\n",
       "      <td>20</td>\n",
       "      <td>4.70</td>\n",
       "    </tr>\n",
       "    <tr>\n",
       "      <th>4</th>\n",
       "      <td>busselton</td>\n",
       "      <td>AU</td>\n",
       "      <td>-33.65</td>\n",
       "      <td>115.33</td>\n",
       "      <td>65.35</td>\n",
       "      <td>62</td>\n",
       "      <td>96</td>\n",
       "      <td>11.01</td>\n",
       "    </tr>\n",
       "  </tbody>\n",
       "</table>\n",
       "</div>"
      ],
      "text/plain": [
       "          city country  latitude  longitude  temperature  humidity  \\\n",
       "0      talnakh      RU     69.49      88.40        14.00        92   \n",
       "1  pangnirtung      CA     66.15     -65.71        27.30        91   \n",
       "2      mataura      NZ    -46.19     168.86        46.99        89   \n",
       "3         hilo      US     19.73    -155.09        63.70        73   \n",
       "4    busselton      AU    -33.65     115.33        65.35        62   \n",
       "\n",
       "   cloudiness  windspeed  \n",
       "0          66       4.47  \n",
       "1         100       6.38  \n",
       "2         100      14.00  \n",
       "3          20       4.70  \n",
       "4          96      11.01  "
      ]
     },
     "execution_count": 18,
     "metadata": {},
     "output_type": "execute_result"
    }
   ],
   "source": [
    "for city in cities:\n",
    "    # Check whether the data is available or not.\n",
    "    if city_weather_data[city]['cod'] == '404':\n",
    "        #print(city, ' 404 error. city not found.')\n",
    "        bad_city.append(city)\n",
    "    else:\n",
    "        good_city.append(city)\n",
    "        iso.append(city_weather_data[city]['sys']['country'])\n",
    "        lat.append(city_weather_data[city]['coord']['lat'])\n",
    "        lon.append(city_weather_data[city]['coord']['lon'])\n",
    "        temp.append(city_weather_data[city]['main']['temp'])\n",
    "        humi.append(city_weather_data[city]['main']['humidity'])\n",
    "        cloud.append(city_weather_data[city]['clouds']['all'])\n",
    "        wind.append(city_weather_data[city]['wind']['speed'])\n",
    "    \n",
    "# create a dictionary\n",
    "city_data_dict = {\n",
    "    'city'       : good_city,\n",
    "    'country'    : iso,\n",
    "    'latitude'   : lat,\n",
    "    'longitude'  : lon,\n",
    "    'temperature': temp,\n",
    "    'humidity'   : humi,\n",
    "    'cloudiness' : cloud,\n",
    "    'windspeed'  : wind\n",
    "}\n",
    "\n",
    "# Create DataFrame\n",
    "weather_df = pd.DataFrame(city_data_dict)\n",
    "weather_df.head()"
   ]
  },
  {
   "cell_type": "code",
   "execution_count": 21,
   "metadata": {},
   "outputs": [],
   "source": [
    "weather_df.to_csv('weather_df.csv', index = False)"
   ]
  },
  {
   "cell_type": "code",
   "execution_count": 22,
   "metadata": {},
   "outputs": [
    {
     "data": {
      "text/plain": [
       "(533, 8)"
      ]
     },
     "execution_count": 22,
     "metadata": {},
     "output_type": "execute_result"
    }
   ],
   "source": [
    "# Check new number of data\n",
    "weather_df.shape"
   ]
  },
  {
   "cell_type": "code",
   "execution_count": 24,
   "metadata": {},
   "outputs": [
    {
     "data": {
      "text/html": [
       "<div>\n",
       "<style scoped>\n",
       "    .dataframe tbody tr th:only-of-type {\n",
       "        vertical-align: middle;\n",
       "    }\n",
       "\n",
       "    .dataframe tbody tr th {\n",
       "        vertical-align: top;\n",
       "    }\n",
       "\n",
       "    .dataframe thead th {\n",
       "        text-align: right;\n",
       "    }\n",
       "</style>\n",
       "<table border=\"1\" class=\"dataframe\">\n",
       "  <thead>\n",
       "    <tr style=\"text-align: right;\">\n",
       "      <th></th>\n",
       "      <th>city</th>\n",
       "      <th>country</th>\n",
       "      <th>latitude</th>\n",
       "      <th>longitude</th>\n",
       "      <th>temperature</th>\n",
       "      <th>humidity</th>\n",
       "      <th>cloudiness</th>\n",
       "      <th>windspeed</th>\n",
       "    </tr>\n",
       "  </thead>\n",
       "  <tbody>\n",
       "    <tr>\n",
       "      <th>0</th>\n",
       "      <td>ushuaia</td>\n",
       "      <td>AR</td>\n",
       "      <td>-54.80</td>\n",
       "      <td>-68.30</td>\n",
       "      <td>42.80</td>\n",
       "      <td>87</td>\n",
       "      <td>75</td>\n",
       "      <td>11.41</td>\n",
       "    </tr>\n",
       "    <tr>\n",
       "      <th>1</th>\n",
       "      <td>punta arenas</td>\n",
       "      <td>CL</td>\n",
       "      <td>-53.15</td>\n",
       "      <td>-70.92</td>\n",
       "      <td>48.09</td>\n",
       "      <td>76</td>\n",
       "      <td>40</td>\n",
       "      <td>17.22</td>\n",
       "    </tr>\n",
       "    <tr>\n",
       "      <th>2</th>\n",
       "      <td>rio gallegos</td>\n",
       "      <td>AR</td>\n",
       "      <td>-51.62</td>\n",
       "      <td>-69.22</td>\n",
       "      <td>51.80</td>\n",
       "      <td>57</td>\n",
       "      <td>90</td>\n",
       "      <td>16.11</td>\n",
       "    </tr>\n",
       "    <tr>\n",
       "      <th>3</th>\n",
       "      <td>bluff</td>\n",
       "      <td>NZ</td>\n",
       "      <td>-46.60</td>\n",
       "      <td>168.33</td>\n",
       "      <td>46.99</td>\n",
       "      <td>90</td>\n",
       "      <td>100</td>\n",
       "      <td>10.00</td>\n",
       "    </tr>\n",
       "    <tr>\n",
       "      <th>4</th>\n",
       "      <td>kaitangata</td>\n",
       "      <td>NZ</td>\n",
       "      <td>-46.28</td>\n",
       "      <td>169.85</td>\n",
       "      <td>48.00</td>\n",
       "      <td>84</td>\n",
       "      <td>90</td>\n",
       "      <td>3.00</td>\n",
       "    </tr>\n",
       "  </tbody>\n",
       "</table>\n",
       "</div>"
      ],
      "text/plain": [
       "           city country  latitude  longitude  temperature  humidity  \\\n",
       "0       ushuaia      AR    -54.80     -68.30        42.80        87   \n",
       "1  punta arenas      CL    -53.15     -70.92        48.09        76   \n",
       "2  rio gallegos      AR    -51.62     -69.22        51.80        57   \n",
       "3         bluff      NZ    -46.60     168.33        46.99        90   \n",
       "4    kaitangata      NZ    -46.28     169.85        48.00        84   \n",
       "\n",
       "   cloudiness  windspeed  \n",
       "0          75      11.41  \n",
       "1          40      17.22  \n",
       "2          90      16.11  \n",
       "3         100      10.00  \n",
       "4          90       3.00  "
      ]
     },
     "execution_count": 24,
     "metadata": {},
     "output_type": "execute_result"
    }
   ],
   "source": [
    "# Sort Data by Latitude\n",
    "weather_df = weather_df.sort_values('latitude')\n",
    "weather_df = weather_df.reset_index(drop = True)\n",
    "weather_df.head()"
   ]
  },
  {
   "cell_type": "markdown",
   "metadata": {},
   "source": [
    "### Plotting the Data\n",
    "* Use proper labeling of the plots using plot titles (including date of analysis) and axes labels.\n",
    "* Save the plotted figures as .pngs."
   ]
  },
  {
   "cell_type": "markdown",
   "metadata": {},
   "source": [
    "#### Latitude vs. Temperature Plot"
   ]
  },
  {
   "cell_type": "code",
   "execution_count": 97,
   "metadata": {
    "scrolled": true
   },
   "outputs": [
    {
     "data": {
      "image/png": "[encoded data removed]",
      "text/plain": [
       "<Figure size 432x288 with 1 Axes>"
      ]
     },
     "metadata": {
      "needs_background": "light"
     },
     "output_type": "display_data"
    }
   ],
   "source": [
    "weather_df.plot(kind = 'scatter', x = 'latitude', y = 'temperature', marker = '+', color = 'darkorange')\n",
    "plt.title('Latitude vs. Temperature')\n",
    "plt.xlabel('Latitude')\n",
    "plt.ylabel('Temperature (Fahrenheit)')\n",
    "plt.grid()\n",
    "plt.xlim(-90, 90)\n",
    "plt.savefig('Latitude vs. Temperature.png')\n",
    "plt.show()\n"
   ]
  },
  {
   "cell_type": "markdown",
   "metadata": {},
   "source": [
    "#### Latitude vs. Humidity Plot"
   ]
  },
  {
   "cell_type": "code",
   "execution_count": 98,
   "metadata": {},
   "outputs": [
    {
     "data": {
      "image/png": "[encoded data removed]",
      "text/plain": [
       "<Figure size 432x288 with 1 Axes>"
      ]
     },
     "metadata": {
      "needs_background": "light"
     },
     "output_type": "display_data"
    }
   ],
   "source": [
    "weather_df.plot(kind = 'scatter', x = 'latitude', y = 'humidity', marker = '+', color = 'darkorange')\n",
    "plt.title('Latitude vs. Humidity')\n",
    "plt.xlabel('Latitude')\n",
    "plt.ylabel('Humidity (%)')\n",
    "plt.grid()\n",
    "plt.xlim(-90, 90)\n",
    "plt.savefig('Latitude vs. Humidity.png')\n",
    "plt.show()\n"
   ]
  },
  {
   "cell_type": "markdown",
   "metadata": {},
   "source": [
    "#### Latitude vs. Cloudiness Plot"
   ]
  },
  {
   "cell_type": "code",
   "execution_count": 99,
   "metadata": {},
   "outputs": [
    {
     "data": {
      "image/png": "[encoded data removed]",
      "text/plain": [
       "<Figure size 432x288 with 1 Axes>"
      ]
     },
     "metadata": {
      "needs_background": "light"
     },
     "output_type": "display_data"
    }
   ],
   "source": [
    "weather_df.plot(kind = 'scatter', x = 'latitude', y = 'cloudiness', marker = '+', color = 'darkorange')\n",
    "plt.title('Latitude vs. cloudiness')\n",
    "plt.xlabel('Latitude')\n",
    "plt.ylabel('cloudiness (%)')\n",
    "plt.grid()\n",
    "plt.xlim(-90, 90)\n",
    "plt.savefig('Latitude vs. cloudiness.png')\n",
    "plt.show()\n"
   ]
  },
  {
   "cell_type": "markdown",
   "metadata": {},
   "source": [
    "#### Latitude vs. Wind Speed Plot"
   ]
  },
  {
   "cell_type": "code",
   "execution_count": 100,
   "metadata": {},
   "outputs": [
    {
     "data": {
      "image/png": "[encoded data removed]",
      "text/plain": [
       "<Figure size 432x288 with 1 Axes>"
      ]
     },
     "metadata": {
      "needs_background": "light"
     },
     "output_type": "display_data"
    }
   ],
   "source": [
    "weather_df.plot(kind = 'scatter', x = 'latitude', y = 'windspeed', marker = '+', color = 'darkorange')\n",
    "plt.title('Latitude vs. windspeed')\n",
    "plt.xlabel('Latitude')\n",
    "plt.ylabel('windspeed (mph)')\n",
    "plt.grid()\n",
    "plt.xlim(-90, 90)\n",
    "plt.savefig('Latitude vs. windspeed.png')\n",
    "plt.show()\n"
   ]
  },
  {
   "cell_type": "markdown",
   "metadata": {},
   "source": [
    "## Linear Regression"
   ]
  },
  {
   "cell_type": "code",
   "execution_count": 110,
   "metadata": {},
   "outputs": [],
   "source": [
    "# OPTIONAL: Create a function to create Linear Regression plots\n",
    "def plot_linear_regression(df, y_col_name):\n",
    "\n",
    "    x = df['latitude']\n",
    "    y = df[y_col_name]\n",
    "    \n",
    "    slope, intercept, rvalue, pvalue, stderr = linregress(x, y)\n",
    "    lr_output = (x * slope) + intercept\n",
    "    \n",
    "    unit_dict = {\n",
    "        'temperature' : '(Fahrenheit)',\n",
    "        'humidity'    : '%',\n",
    "        'cloudiness'  : '%',\n",
    "        'windspeed'   : 'mph',\n",
    "    }\n",
    "    \n",
    "    plt.scatter(x, y, marker = '+', color = 'darkorange')\n",
    "    plt.plot(x, lr_output, color = 'black')\n",
    "    \n",
    "    plt.title('Latitude vs. ' + y_col_name)\n",
    "    plt.xlabel('Latitude')\n",
    "    plt.ylabel(y_col_name + ' ' + unit_dict[y_col_name])\n",
    "    plt.grid()\n",
    "    plt.xlim(-90, 90)\n",
    "\n",
    "    return slope, intercept, rvalue, pvalue, stderr"
   ]
  },
  {
   "cell_type": "code",
   "execution_count": null,
   "metadata": {},
   "outputs": [],
   "source": []
  },
  {
   "cell_type": "code",
   "execution_count": 111,
   "metadata": {},
   "outputs": [
    {
     "data": {
      "text/plain": [
       "(-0.41691765416424836,\n",
       " 68.18181721962053,\n",
       " -0.6290253696712563,\n",
       " 4.6453237269601787e-60,\n",
       " 0.022359953322727617)"
      ]
     },
     "execution_count": 111,
     "metadata": {},
     "output_type": "execute_result"
    },
    {
     "data": {
      "image/png": "[encoded data removed]",
      "text/plain": [
       "<Figure size 432x288 with 1 Axes>"
      ]
     },
     "metadata": {
      "needs_background": "light"
     },
     "output_type": "display_data"
    }
   ],
   "source": [
    "# Test\n",
    "plot_linear_regression(weather_df, 'temperature')"
   ]
  },
  {
   "cell_type": "code",
   "execution_count": 112,
   "metadata": {},
   "outputs": [],
   "source": [
    "# Create Northern and Southern Hemisphere DataFrames\n",
    "north_hemi = weather_df.loc[weather_df.latitude >= 0].copy()\n",
    "south_hemi = weather_df.loc[weather_df.latitude <= 0].copy()"
   ]
  },
  {
   "cell_type": "markdown",
   "metadata": {},
   "source": [
    "####  Northern Hemisphere - Max Temp vs. Latitude Linear Regression"
   ]
  },
  {
   "cell_type": "code",
   "execution_count": 114,
   "metadata": {},
   "outputs": [
    {
     "name": "stdout",
     "output_type": "stream",
     "text": [
      "Correlation =  -0.88\n",
      "R^2 =  0.78\n",
      "p_value =  0.0\n"
     ]
    },
    {
     "data": {
      "image/png": "[encoded data removed]",
      "text/plain": [
       "<Figure size 432x288 with 1 Axes>"
      ]
     },
     "metadata": {
      "needs_background": "light"
     },
     "output_type": "display_data"
    }
   ],
   "source": [
    "stat = plot_linear_regression(north_hemi, 'temperature')\n",
    "\n",
    "r_squre = round(stat[2] ** 2, 2)\n",
    "p_value = round(stat[3], 2)\n",
    "\n",
    "print('Correlation = ', round(stat[2], 2))\n",
    "print('R^2 = ', r_squre)\n",
    "print('p_value = ', p_value)\n",
    "plt.savefig('Latitude vs. temperature - north.png')\n",
    "plt.show()"
   ]
  },
  {
   "cell_type": "markdown",
   "metadata": {},
   "source": [
    "AW Comment: In the northern hemisphere, latitude and and temperature are strong negatively correlated with a correlation of coefficent\n",
    "of -0.88. The linear reqression result is significant with a p-valuse almost at 0 with a R-square at 0.78."
   ]
  },
  {
   "cell_type": "markdown",
   "metadata": {},
   "source": [
    "####  Southern Hemisphere - Max Temp vs. Latitude Linear Regression"
   ]
  },
  {
   "cell_type": "code",
   "execution_count": 115,
   "metadata": {},
   "outputs": [
    {
     "name": "stdout",
     "output_type": "stream",
     "text": [
      "Correlation =  0.79\n",
      "R^2 =  0.63\n",
      "p_value =  0.0\n"
     ]
    },
    {
     "data": {
      "image/png": "[encoded data removed]",
      "text/plain": [
       "<Figure size 432x288 with 1 Axes>"
      ]
     },
     "metadata": {
      "needs_background": "light"
     },
     "output_type": "display_data"
    }
   ],
   "source": [
    "stat = plot_linear_regression(south_hemi, 'temperature')\n",
    "\n",
    "r_squre = round(stat[2] ** 2, 2)\n",
    "p_value = round(stat[3], 2)\n",
    "\n",
    "print('Correlation = ', round(stat[2], 2))\n",
    "print('R^2 = ', r_squre)\n",
    "print('p_value = ', p_value)\n",
    "plt.savefig('Latitude vs. temperature - south.png')\n",
    "plt.show()"
   ]
  },
  {
   "cell_type": "markdown",
   "metadata": {},
   "source": [
    "AW Comment: In the souther hemisphere, latitude and and temperature are strong positively correlated with a correlation of coefficent of 0.79. The linear reqression model is significant with a p-valuse almost at 0 with a R-square at 0.63."
   ]
  },
  {
   "cell_type": "markdown",
   "metadata": {},
   "source": [
    "####  Northern Hemisphere - Humidity (%) vs. Latitude Linear Regression"
   ]
  },
  {
   "cell_type": "code",
   "execution_count": 116,
   "metadata": {},
   "outputs": [
    {
     "name": "stdout",
     "output_type": "stream",
     "text": [
      "Correlation =  0.35\n",
      "R^2 =  0.12\n",
      "p_value =  0.0\n"
     ]
    },
    {
     "data": {
      "image/png": "[encoded data removed]",
      "text/plain": [
       "<Figure size 432x288 with 1 Axes>"
      ]
     },
     "metadata": {
      "needs_background": "light"
     },
     "output_type": "display_data"
    }
   ],
   "source": [
    "stat = plot_linear_regression(north_hemi, 'humidity')\n",
    "\n",
    "r_squre = round(stat[2] ** 2, 2)\n",
    "p_value = round(stat[3], 2)\n",
    "\n",
    "print('Correlation = ', round(stat[2], 2))\n",
    "print('R^2 = ', r_squre)\n",
    "print('p_value = ', p_value)\n",
    "plt.savefig('Latitude vs. humidity - north.png')\n",
    "plt.show()"
   ]
  },
  {
   "cell_type": "markdown",
   "metadata": {},
   "source": [
    "AW Comment: In the northern hemisphere, the correlation between latitude and humidity is weak at 0.35. The linear regression is not effective using latitude to predict humidity given the R-square is only 0.12."
   ]
  },
  {
   "cell_type": "markdown",
   "metadata": {},
   "source": [
    "####  Southern Hemisphere - Humidity (%) vs. Latitude Linear Regression"
   ]
  },
  {
   "cell_type": "code",
   "execution_count": 117,
   "metadata": {},
   "outputs": [
    {
     "name": "stdout",
     "output_type": "stream",
     "text": [
      "Correlation =  0.11\n",
      "R^2 =  0.01\n",
      "p_value =  0.15\n"
     ]
    },
    {
     "data": {
      "image/png": "[encoded data removed]",
      "text/plain": [
       "<Figure size 432x288 with 1 Axes>"
      ]
     },
     "metadata": {
      "needs_background": "light"
     },
     "output_type": "display_data"
    }
   ],
   "source": [
    "stat = plot_linear_regression(south_hemi, 'humidity')\n",
    "\n",
    "r_squre = round(stat[2] ** 2, 2)\n",
    "p_value = round(stat[3], 2)\n",
    "\n",
    "print('Correlation = ', round(stat[2], 2))\n",
    "print('R^2 = ', r_squre)\n",
    "print('p_value = ', p_value)\n",
    "plt.savefig('Latitude vs. humidity - south.png')\n",
    "plt.show()"
   ]
  },
  {
   "cell_type": "markdown",
   "metadata": {},
   "source": [
    "AW Comment: In the southern hemisphere, the correlation between latitude and humidity is weak at 0.11. The linear regression is not siginifant given the high p-value at 0.15."
   ]
  },
  {
   "cell_type": "markdown",
   "metadata": {},
   "source": [
    "####  Northern Hemisphere - Cloudiness (%) vs. Latitude Linear Regression"
   ]
  },
  {
   "cell_type": "code",
   "execution_count": 118,
   "metadata": {},
   "outputs": [
    {
     "name": "stdout",
     "output_type": "stream",
     "text": [
      "Correlation =  0.18\n",
      "R^2 =  0.03\n",
      "p_value =  0.0\n"
     ]
    },
    {
     "data": {
      "image/png": "[encoded data removed]",
      "text/plain": [
       "<Figure size 432x288 with 1 Axes>"
      ]
     },
     "metadata": {
      "needs_background": "light"
     },
     "output_type": "display_data"
    }
   ],
   "source": [
    "stat = plot_linear_regression(north_hemi, 'cloudiness')\n",
    "\n",
    "r_squre = round(stat[2] ** 2, 2)\n",
    "p_value = round(stat[3], 2)\n",
    "\n",
    "print('Correlation = ', round(stat[2], 2))\n",
    "print('R^2 = ', r_squre)\n",
    "print('p_value = ', p_value)\n",
    "plt.savefig('Latitude vs. cloudiness - north.png')\n",
    "plt.show()"
   ]
  },
  {
   "cell_type": "markdown",
   "metadata": {},
   "source": [
    "AW Comment: In the northern hemisphere, the correlation between latitude and cloudiness is very weak at 0.18. The linear regression is not effective using latitude to predict cloudiness given the R-square is only 0.03."
   ]
  },
  {
   "cell_type": "markdown",
   "metadata": {},
   "source": [
    "####  Southern Hemisphere - Cloudiness (%) vs. Latitude Linear Regression"
   ]
  },
  {
   "cell_type": "code",
   "execution_count": 119,
   "metadata": {},
   "outputs": [
    {
     "name": "stdout",
     "output_type": "stream",
     "text": [
      "Correlation =  0.05\n",
      "R^2 =  0.0\n",
      "p_value =  0.52\n"
     ]
    },
    {
     "data": {
      "image/png": "[encoded data removed]",
      "text/plain": [
       "<Figure size 432x288 with 1 Axes>"
      ]
     },
     "metadata": {
      "needs_background": "light"
     },
     "output_type": "display_data"
    }
   ],
   "source": [
    "stat = plot_linear_regression(south_hemi, 'cloudiness')\n",
    "\n",
    "r_squre = round(stat[2] ** 2, 2)\n",
    "p_value = round(stat[3], 2)\n",
    "\n",
    "print('Correlation = ', round(stat[2], 2))\n",
    "print('R^2 = ', r_squre)\n",
    "print('p_value = ', p_value)\n",
    "plt.savefig('Latitude vs. cloudiness - south.png')\n",
    "plt.show()"
   ]
  },
  {
   "cell_type": "markdown",
   "metadata": {},
   "source": [
    "AW Comment: In the southern hemisphere, the correlation between latitude and cloudiness is very weak at 0.05. The linear regression is not siginifant given the high p-value at 0.52."
   ]
  },
  {
   "cell_type": "markdown",
   "metadata": {},
   "source": [
    "####  Northern Hemisphere - Wind Speed (mph) vs. Latitude Linear Regression"
   ]
  },
  {
   "cell_type": "code",
   "execution_count": 120,
   "metadata": {},
   "outputs": [
    {
     "name": "stdout",
     "output_type": "stream",
     "text": [
      "Correlation =  0.1\n",
      "R^2 =  0.01\n",
      "p_value =  0.07\n"
     ]
    },
    {
     "data": {
      "image/png": "[encoded data removed]",
      "text/plain": [
       "<Figure size 432x288 with 1 Axes>"
      ]
     },
     "metadata": {
      "needs_background": "light"
     },
     "output_type": "display_data"
    }
   ],
   "source": [
    "stat = plot_linear_regression(north_hemi, 'windspeed')\n",
    "\n",
    "r_squre = round(stat[2] ** 2, 2)\n",
    "p_value = round(stat[3], 2)\n",
    "\n",
    "print('Correlation = ', round(stat[2], 2))\n",
    "print('R^2 = ', r_squre)\n",
    "print('p_value = ', p_value)\n",
    "plt.savefig('Latitude vs. windspeed - north.png')\n",
    "plt.show()"
   ]
  },
  {
   "cell_type": "markdown",
   "metadata": {},
   "source": [
    "AW Comment: Latitude is not useful to predict wind speed. The p-value is high and R^2 is extremely low."
   ]
  },
  {
   "cell_type": "markdown",
   "metadata": {},
   "source": [
    "####  Southern Hemisphere - Wind Speed (mph) vs. Latitude Linear Regression"
   ]
  },
  {
   "cell_type": "code",
   "execution_count": 121,
   "metadata": {},
   "outputs": [
    {
     "name": "stdout",
     "output_type": "stream",
     "text": [
      "Correlation =  -0.29\n",
      "R^2 =  0.08\n",
      "p_value =  0.0\n"
     ]
    },
    {
     "data": {
      "image/png": "[encoded data removed]",
      "text/plain": [
       "<Figure size 432x288 with 1 Axes>"
      ]
     },
     "metadata": {
      "needs_background": "light"
     },
     "output_type": "display_data"
    }
   ],
   "source": [
    "stat = plot_linear_regression(south_hemi, 'windspeed')\n",
    "\n",
    "r_squre = round(stat[2] ** 2, 2)\n",
    "p_value = round(stat[3], 2)\n",
    "\n",
    "print('Correlation = ', round(stat[2], 2))\n",
    "print('R^2 = ', r_squre)\n",
    "print('p_value = ', p_value)\n",
    "plt.savefig('Latitude vs. windspeed - south.png')\n",
    "plt.show()"
   ]
  },
  {
   "cell_type": "markdown",
   "metadata": {},
   "source": [
    "AW Comment: In the southern hemisphere, latitude bears no obvious relaitonship with the wind speed. Latitude alone can only explain 0.08 in variance."
   ]
  },
  {
   "cell_type": "code",
   "execution_count": null,
   "metadata": {},
   "outputs": [],
   "source": []
  }
 ],
 "metadata": {
  "anaconda-cloud": {},
  "kernel_info": {
   "name": "python3"
  },
  "kernelspec": {
   "display_name": "via2",
   "language": "python",
   "name": "via2"
  },
  "language_info": {
   "codemirror_mode": {
    "name": "ipython",
    "version": 3
   },
   "file_extension": ".py",
   "mimetype": "text/x-python",
   "name": "python",
   "nbconvert_exporter": "python",
   "pygments_lexer": "ipython3",
   "version": "3.7.3"
  },
  "latex_envs": {
   "LaTeX_envs_menu_present": true,
   "autoclose": false,
   "autocomplete": true,
   "bibliofile": "biblio.bib",
   "cite_by": "apalike",
   "current_citInitial": 1,
   "eqLabelWithNumbers": true,
   "eqNumInitial": 1,
   "hotkeys": {
    "equation": "Ctrl-E",
    "itemize": "Ctrl-I"
   },
   "labels_anchors": false,
   "latex_user_defs": false,
   "report_style_numbering": false,
   "user_envs_cfg": false
  },
  "nteract": {
   "version": "0.12.3"
  }
 },
 "nbformat": 4,
 "nbformat_minor": 2
}
